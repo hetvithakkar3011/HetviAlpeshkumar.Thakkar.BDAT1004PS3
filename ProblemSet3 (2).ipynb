{
 "cells": [
  {
   "cell_type": "markdown",
   "metadata": {},
   "source": [
    "## Question-1"
   ]
  },
  {
   "cell_type": "code",
   "execution_count": 2,
   "metadata": {
    "collapsed": true
   },
   "outputs": [],
   "source": [
    "# Step 1: Import the necessary libraries\n",
    "import pandas as pd"
   ]
  },
  {
   "cell_type": "code",
   "execution_count": 3,
   "metadata": {
    "collapsed": true
   },
   "outputs": [],
   "source": [
    "# Step 2: Load the dataset from a local file\n",
    "file_path = 'https://raw.githubusercontent.com/justmarkham/DAT8/master/data/u.user'\n",
    "users = pd.read_csv(file_path, sep='|')"
   ]
  },
  {
   "cell_type": "code",
   "execution_count": 4,
   "metadata": {},
   "outputs": [
    {
     "name": "stdout",
     "output_type": "stream",
     "text": [
      "   user_id  age gender  occupation zip_code\n",
      "0        1   24      M  technician    85711\n",
      "1        2   53      F       other    94043\n",
      "2        3   23      M      writer    32067\n",
      "3        4   24      M  technician    43537\n",
      "4        5   33      F       other    15213\n"
     ]
    }
   ],
   "source": [
    "# Step 3: Assign it to a variable called `users`\n",
    "print(users.head())\n"
   ]
  },
  {
   "cell_type": "code",
   "execution_count": 5,
   "metadata": {},
   "outputs": [
    {
     "name": "stdout",
     "output_type": "stream",
     "text": [
      "Mean Age per Occupation:\n",
      " occupation\n",
      "administrator    38.746835\n",
      "artist           31.392857\n",
      "doctor           43.571429\n",
      "educator         42.010526\n",
      "engineer         36.388060\n",
      "entertainment    29.222222\n",
      "executive        38.718750\n",
      "healthcare       41.562500\n",
      "homemaker        32.571429\n",
      "lawyer           36.750000\n",
      "librarian        40.000000\n",
      "marketing        37.615385\n",
      "none             26.555556\n",
      "other            34.523810\n",
      "programmer       33.121212\n",
      "retired          63.071429\n",
      "salesman         35.666667\n",
      "scientist        35.548387\n",
      "student          22.081633\n",
      "technician       33.148148\n",
      "writer           36.311111\n",
      "Name: age, dtype: float64\n"
     ]
    }
   ],
   "source": [
    "# Step 4: Discover the mean age per occupation\n",
    "mean_age_per_occupation = users.groupby('occupation')['age'].mean()\n",
    "print(\"Mean Age per Occupation:\\n\", mean_age_per_occupation)"
   ]
  },
  {
   "cell_type": "code",
   "execution_count": 6,
   "metadata": {},
   "outputs": [
    {
     "name": "stdout",
     "output_type": "stream",
     "text": [
      "\n",
      "Male Ratio per Occupation:\n",
      " occupation\n",
      "doctor           1.000000\n",
      "engineer         0.970149\n",
      "technician       0.962963\n",
      "retired          0.928571\n",
      "programmer       0.909091\n",
      "executive        0.906250\n",
      "scientist        0.903226\n",
      "entertainment    0.888889\n",
      "lawyer           0.833333\n",
      "salesman         0.750000\n",
      "educator         0.726316\n",
      "student          0.693878\n",
      "other            0.657143\n",
      "marketing        0.615385\n",
      "writer           0.577778\n",
      "none             0.555556\n",
      "administrator    0.544304\n",
      "artist           0.535714\n",
      "librarian        0.431373\n",
      "healthcare       0.312500\n",
      "homemaker        0.142857\n",
      "Name: is_male, dtype: float64\n"
     ]
    }
   ],
   "source": [
    "# Step 5: Discover the Male ratio per occupation and sort it from most to least\n",
    "# Calculate the male ratio\n",
    "users['is_male'] = users['gender'].apply(lambda x: 1 if x == 'M' else 0)\n",
    "male_ratio_per_occupation = users.groupby('occupation')['is_male'].mean().sort_values(ascending=False)\n",
    "print(\"\\nMale Ratio per Occupation:\\n\", male_ratio_per_occupation)"
   ]
  },
  {
   "cell_type": "code",
   "execution_count": 7,
   "metadata": {},
   "outputs": [
    {
     "name": "stdout",
     "output_type": "stream",
     "text": [
      "\n",
      "Minimum and Maximum Age per Occupation:\n",
      "                min  max\n",
      "occupation             \n",
      "administrator   21   70\n",
      "artist          19   48\n",
      "doctor          28   64\n",
      "educator        23   63\n",
      "engineer        22   70\n",
      "entertainment   15   50\n",
      "executive       22   69\n",
      "healthcare      22   62\n",
      "homemaker       20   50\n",
      "lawyer          21   53\n",
      "librarian       23   69\n",
      "marketing       24   55\n",
      "none            11   55\n",
      "other           13   64\n",
      "programmer      20   63\n",
      "retired         51   73\n",
      "salesman        18   66\n",
      "scientist       23   55\n",
      "student          7   42\n",
      "technician      21   55\n",
      "writer          18   60\n"
     ]
    }
   ],
   "source": [
    "# Step 6: Calculate the minimum and maximum ages for each occupation\n",
    "min_max_age_per_occupation = users.groupby('occupation')['age'].agg(['min', 'max'])\n",
    "print(\"\\nMinimum and Maximum Age per Occupation:\\n\", min_max_age_per_occupation)"
   ]
  },
  {
   "cell_type": "code",
   "execution_count": 8,
   "metadata": {},
   "outputs": [
    {
     "name": "stdout",
     "output_type": "stream",
     "text": [
      "\n",
      "Mean Age per Occupation and Gender:\n",
      " occupation     gender\n",
      "administrator  F         40.638889\n",
      "               M         37.162791\n",
      "artist         F         30.307692\n",
      "               M         32.333333\n",
      "doctor         M         43.571429\n",
      "educator       F         39.115385\n",
      "               M         43.101449\n",
      "engineer       F         29.500000\n",
      "               M         36.600000\n",
      "entertainment  F         31.000000\n",
      "               M         29.000000\n",
      "executive      F         44.000000\n",
      "               M         38.172414\n",
      "healthcare     F         39.818182\n",
      "               M         45.400000\n",
      "homemaker      F         34.166667\n",
      "               M         23.000000\n",
      "lawyer         F         39.500000\n",
      "               M         36.200000\n",
      "librarian      F         40.000000\n",
      "               M         40.000000\n",
      "marketing      F         37.200000\n",
      "               M         37.875000\n",
      "none           F         36.500000\n",
      "               M         18.600000\n",
      "other          F         35.472222\n",
      "               M         34.028986\n",
      "programmer     F         32.166667\n",
      "               M         33.216667\n",
      "retired        F         70.000000\n",
      "               M         62.538462\n",
      "salesman       F         27.000000\n",
      "               M         38.555556\n",
      "scientist      F         28.333333\n",
      "               M         36.321429\n",
      "student        F         20.750000\n",
      "               M         22.669118\n",
      "technician     F         38.000000\n",
      "               M         32.961538\n",
      "writer         F         37.631579\n",
      "               M         35.346154\n",
      "Name: age, dtype: float64\n"
     ]
    }
   ],
   "source": [
    "# Step 7: For each combination of occupation and sex, calculate the mean age\n",
    "mean_age_per_occupation_gender = users.groupby(['occupation', 'gender'])['age'].mean()\n",
    "print(\"\\nMean Age per Occupation and Gender:\\n\", mean_age_per_occupation_gender)"
   ]
  },
  {
   "cell_type": "code",
   "execution_count": 9,
   "metadata": {},
   "outputs": [
    {
     "name": "stdout",
     "output_type": "stream",
     "text": [
      "\n",
      "Percentage of Women and Men per Occupation:\n",
      " gender                 F           M\n",
      "occupation                          \n",
      "administrator  45.569620   54.430380\n",
      "artist         46.428571   53.571429\n",
      "doctor               NaN  100.000000\n",
      "educator       27.368421   72.631579\n",
      "engineer        2.985075   97.014925\n",
      "entertainment  11.111111   88.888889\n",
      "executive       9.375000   90.625000\n",
      "healthcare     68.750000   31.250000\n",
      "homemaker      85.714286   14.285714\n",
      "lawyer         16.666667   83.333333\n",
      "librarian      56.862745   43.137255\n",
      "marketing      38.461538   61.538462\n",
      "none           44.444444   55.555556\n",
      "other          34.285714   65.714286\n",
      "programmer      9.090909   90.909091\n",
      "retired         7.142857   92.857143\n",
      "salesman       25.000000   75.000000\n",
      "scientist       9.677419   90.322581\n",
      "student        30.612245   69.387755\n",
      "technician      3.703704   96.296296\n",
      "writer         42.222222   57.777778\n"
     ]
    }
   ],
   "source": [
    "# Step 8: Present the percentage of women and men for each occupation\n",
    "gender_counts_per_occupation = users.groupby(['occupation', 'gender']).size().unstack()\n",
    "gender_percentage_per_occupation = gender_counts_per_occupation.div(gender_counts_per_occupation.sum(axis=1), axis=0) * 100\n",
    "print(\"\\nPercentage of Women and Men per Occupation:\\n\", gender_percentage_per_occupation)"
   ]
  },
  {
   "cell_type": "markdown",
   "metadata": {},
   "source": [
    "---"
   ]
  },
  {
   "cell_type": "markdown",
   "metadata": {},
   "source": [
    "## Question-2\n"
   ]
  },
  {
   "cell_type": "code",
   "execution_count": 10,
   "metadata": {},
   "outputs": [
    {
     "name": "stdout",
     "output_type": "stream",
     "text": [
      "Columns in dataset: Index(['Team', 'Goals', 'Shots on target', 'Shots off target',\n",
      "       'Shooting Accuracy', '% Goals-to-shots', 'Total shots (inc. Blocked)',\n",
      "       'Hit Woodwork', 'Penalty goals', 'Penalties not scored', 'Headed goals',\n",
      "       'Passes', 'Passes completed', 'Passing Accuracy', 'Touches', 'Crosses',\n",
      "       'Dribbles', 'Corners Taken', 'Tackles', 'Clearances', 'Interceptions',\n",
      "       'Clearances off line', 'Clean Sheets', 'Blocks', 'Goals conceded',\n",
      "       'Saves made', 'Saves-to-shots ratio', 'Fouls Won', 'Fouls Conceded',\n",
      "       'Offsides', 'Yellow Cards', 'Red Cards', 'Subs on', 'Subs off',\n",
      "       'Players Used'],\n",
      "      dtype='object')\n",
      "             Team  Goals  Shots on target  Shots off target Shooting Accuracy  \\\n",
      "0         Croatia      4               13                12             51.9%   \n",
      "1  Czech Republic      4               13                18             41.9%   \n",
      "2         Denmark      4               10                10             50.0%   \n",
      "3         England      5               11                18             50.0%   \n",
      "4          France      3               22                24             37.9%   \n",
      "\n",
      "  % Goals-to-shots  Total shots (inc. Blocked)  Hit Woodwork  Penalty goals  \\\n",
      "0            16.0%                          32             0              0   \n",
      "1            12.9%                          39             0              0   \n",
      "2            20.0%                          27             1              0   \n",
      "3            17.2%                          40             0              0   \n",
      "4             6.5%                          65             1              0   \n",
      "\n",
      "   Penalties not scored  ...  Saves made  Saves-to-shots ratio  Fouls Won  \\\n",
      "0                     0  ...          13                 81.3%         41   \n",
      "1                     0  ...           9                 60.1%         53   \n",
      "2                     0  ...          10                 66.7%         25   \n",
      "3                     0  ...          22                 88.1%         43   \n",
      "4                     0  ...           6                 54.6%         36   \n",
      "\n",
      "  Fouls Conceded  Offsides  Yellow Cards  Red Cards  Subs on  Subs off  \\\n",
      "0             62         2             9          0        9         9   \n",
      "1             73         8             7          0       11        11   \n",
      "2             38         8             4          0        7         7   \n",
      "3             45         6             5          0       11        11   \n",
      "4             51         5             6          0       11        11   \n",
      "\n",
      "   Players Used  \n",
      "0            16  \n",
      "1            19  \n",
      "2            15  \n",
      "3            16  \n",
      "4            19  \n",
      "\n",
      "[5 rows x 35 columns]\n"
     ]
    }
   ],
   "source": [
    "# Step 1: Import the necessary libraries\n",
    "import pandas as pd\n",
    "\n",
    "# Step 1: Import the dataset from this address\n",
    "file_path = \"https://raw.githubusercontent.com/guipsamora/pandas_exercises/master/02_Filtering_%26_Sorting/Euro12/Euro_2012_stats_TEAM.csv\"  \n",
    "\n",
    "# Step 2: Assign it to a variable called euro12\n",
    "euro12 = pd.read_csv(file_path, sep=',')  \n",
    "euro12.columns = euro12.columns.str.strip()\n",
    "\n",
    "print(\"Columns in dataset:\", euro12.columns)\n",
    "print(euro12.head())\n"
   ]
  },
  {
   "cell_type": "code",
   "execution_count": 11,
   "metadata": {},
   "outputs": [
    {
     "name": "stdout",
     "output_type": "stream",
     "text": [
      "0    4\n",
      "1    4\n",
      "2    4\n",
      "3    5\n",
      "4    3\n",
      "Name: Goals, dtype: int64\n"
     ]
    }
   ],
   "source": [
    "# Step 4: Select only the 'Goals' column\n",
    "goal = euro12['Goals']\n",
    "print(goal.head())  # Print the first few values of the Goals column\n"
   ]
  },
  {
   "cell_type": "code",
   "execution_count": 12,
   "metadata": {},
   "outputs": [
    {
     "name": "stdout",
     "output_type": "stream",
     "text": [
      "Number of teams that participated in Euro 2012: 16\n"
     ]
    }
   ],
   "source": [
    "# Step 5: How many teams participated in Euro 2012?\n",
    "num_teams = euro12['Team'].nunique()\n",
    "print(f'Number of teams that participated in Euro 2012: {num_teams}')\n"
   ]
  },
  {
   "cell_type": "code",
   "execution_count": 13,
   "metadata": {},
   "outputs": [
    {
     "name": "stdout",
     "output_type": "stream",
     "text": [
      "Number of columns in the dataset: 35\n"
     ]
    }
   ],
   "source": [
    "# Step 6: Number of columns in the dataset\n",
    "num_columns = euro12.shape[1]\n",
    "print(f'Number of columns in the dataset: {num_columns}')\n"
   ]
  },
  {
   "cell_type": "code",
   "execution_count": 14,
   "metadata": {},
   "outputs": [
    {
     "name": "stdout",
     "output_type": "stream",
     "text": [
      "             Team  Yellow Cards  Red Cards\n",
      "0         Croatia             9          0\n",
      "1  Czech Republic             7          0\n",
      "2         Denmark             4          0\n",
      "3         England             5          0\n",
      "4          France             6          0\n"
     ]
    }
   ],
   "source": [
    "# Step 7: View only 'Team', 'Yellow Cards', and 'Red Cards' and assign to 'discipline'\n",
    "discipline = euro12[['Team', 'Yellow Cards', 'Red Cards']]\n",
    "print(discipline.head())  # Print the first few rows of the discipline dataframe\n"
   ]
  },
  {
   "cell_type": "code",
   "execution_count": 15,
   "metadata": {},
   "outputs": [
    {
     "name": "stdout",
     "output_type": "stream",
     "text": [
      "                   Team  Red Cards  Yellow Cards\n",
      "6                Greece          1             9\n",
      "9                Poland          1             7\n",
      "11  Republic of Ireland          1             6\n",
      "7                 Italy          0            16\n",
      "10             Portugal          0            12\n"
     ]
    }
   ],
   "source": [
    "# Step 8: Sort by 'Red Cards' first, then by 'Yellow Cards'\n",
    "sorted_teams = euro12.sort_values(by=['Red Cards', 'Yellow Cards'], ascending=[False, False])\n",
    "print(sorted_teams[['Team', 'Red Cards', 'Yellow Cards']].head())\n"
   ]
  },
  {
   "cell_type": "code",
   "execution_count": 16,
   "metadata": {},
   "outputs": [
    {
     "name": "stdout",
     "output_type": "stream",
     "text": [
      "Mean Yellow Cards per team: 7.4375\n"
     ]
    }
   ],
   "source": [
    "\n",
    "# Step 9: Calculate the mean Yellow Cards per team\n",
    "mean_yellow_cards = euro12['Yellow Cards'].mean()\n",
    "print(f'Mean Yellow Cards per team: {mean_yellow_cards}')\n"
   ]
  },
  {
   "cell_type": "code",
   "execution_count": 17,
   "metadata": {},
   "outputs": [
    {
     "name": "stdout",
     "output_type": "stream",
     "text": [
      "       Team  Goals\n",
      "5   Germany     10\n",
      "13    Spain     12\n"
     ]
    }
   ],
   "source": [
    "# Step 10: Filter teams that scored more than 6 goals\n",
    "teams_more_than_6_goals = euro12[euro12['Goals'] > 6]\n",
    "print(teams_more_than_6_goals[['Team', 'Goals']])\n"
   ]
  },
  {
   "cell_type": "code",
   "execution_count": 18,
   "metadata": {},
   "outputs": [
    {
     "name": "stdout",
     "output_type": "stream",
     "text": [
      "      Team\n",
      "5  Germany\n",
      "6   Greece\n"
     ]
    }
   ],
   "source": [
    "# Step 11: Select teams that start with 'G'\n",
    "teams_starting_with_G = euro12[euro12['Team'].str.startswith('G')]\n",
    "print(teams_starting_with_G[['Team']])\n"
   ]
  },
  {
   "cell_type": "code",
   "execution_count": 19,
   "metadata": {},
   "outputs": [
    {
     "name": "stdout",
     "output_type": "stream",
     "text": [
      "             Team  Goals  Shots on target  Shots off target Shooting Accuracy  \\\n",
      "0         Croatia      4               13                12             51.9%   \n",
      "1  Czech Republic      4               13                18             41.9%   \n",
      "2         Denmark      4               10                10             50.0%   \n",
      "3         England      5               11                18             50.0%   \n",
      "4          France      3               22                24             37.9%   \n",
      "\n",
      "  % Goals-to-shots  Total shots (inc. Blocked)  \n",
      "0            16.0%                          32  \n",
      "1            12.9%                          39  \n",
      "2            20.0%                          27  \n",
      "3            17.2%                          40  \n",
      "4             6.5%                          65  \n"
     ]
    }
   ],
   "source": [
    "# Step 12: Select the first 7 columns\n",
    "first_7_columns = euro12.iloc[:, :7]\n",
    "print(first_7_columns.head())\n"
   ]
  },
  {
   "cell_type": "code",
   "execution_count": 20,
   "metadata": {},
   "outputs": [
    {
     "name": "stdout",
     "output_type": "stream",
     "text": [
      "             Team  Goals  Shots on target  Shots off target Shooting Accuracy  \\\n",
      "0         Croatia      4               13                12             51.9%   \n",
      "1  Czech Republic      4               13                18             41.9%   \n",
      "2         Denmark      4               10                10             50.0%   \n",
      "3         England      5               11                18             50.0%   \n",
      "4          France      3               22                24             37.9%   \n",
      "\n",
      "  % Goals-to-shots  Total shots (inc. Blocked)  Hit Woodwork  Penalty goals  \\\n",
      "0            16.0%                          32             0              0   \n",
      "1            12.9%                          39             0              0   \n",
      "2            20.0%                          27             1              0   \n",
      "3            17.2%                          40             0              0   \n",
      "4             6.5%                          65             1              0   \n",
      "\n",
      "   Penalties not scored  ...  Clean Sheets  Blocks  Goals conceded Saves made  \\\n",
      "0                     0  ...             0      10               3         13   \n",
      "1                     0  ...             1      10               6          9   \n",
      "2                     0  ...             1      10               5         10   \n",
      "3                     0  ...             2      29               3         22   \n",
      "4                     0  ...             1       7               5          6   \n",
      "\n",
      "   Saves-to-shots ratio  Fouls Won  Fouls Conceded  Offsides  Yellow Cards  \\\n",
      "0                 81.3%         41              62         2             9   \n",
      "1                 60.1%         53              73         8             7   \n",
      "2                 66.7%         25              38         8             4   \n",
      "3                 88.1%         43              45         6             5   \n",
      "4                 54.6%         36              51         5             6   \n",
      "\n",
      "   Red Cards  \n",
      "0          0  \n",
      "1          0  \n",
      "2          0  \n",
      "3          0  \n",
      "4          0  \n",
      "\n",
      "[5 rows x 32 columns]\n"
     ]
    }
   ],
   "source": [
    "# Step 13: Select all columns except the last 3\n",
    "columns_except_last_3 = euro12.iloc[:, :-3]\n",
    "print(columns_except_last_3.head())\n"
   ]
  },
  {
   "cell_type": "code",
   "execution_count": 21,
   "metadata": {},
   "outputs": [
    {
     "name": "stdout",
     "output_type": "stream",
     "text": [
      "       Team Shooting Accuracy\n",
      "3   England             50.0%\n",
      "7     Italy             43.0%\n",
      "12   Russia             22.5%\n"
     ]
    }
   ],
   "source": [
    "# Step 14: Present only 'Shooting Accuracy' from England, Italy, and Russia\n",
    "teams_of_interest = euro12[euro12['Team'].isin(['England', 'Italy', 'Russia'])]\n",
    "shooting_accuracy = teams_of_interest[['Team', 'Shooting Accuracy']]\n",
    "print(shooting_accuracy)\n"
   ]
  },
  {
   "cell_type": "markdown",
   "metadata": {},
   "source": [
    "---"
   ]
  },
  {
   "cell_type": "markdown",
   "metadata": {},
   "source": [
    "## Question-3"
   ]
  },
  {
   "cell_type": "code",
   "execution_count": 22,
   "metadata": {
    "collapsed": true
   },
   "outputs": [],
   "source": [
    "# step-1 Import the necessary libraries\n",
    "import pandas as pd\n",
    "import numpy as np"
   ]
  },
  {
   "cell_type": "code",
   "execution_count": 23,
   "metadata": {
    "collapsed": true
   },
   "outputs": [],
   "source": [
    "# Step-2  Create 3 differents Series, each of length 100, as follows:\n",
    "#          • The first a random number from 1 to 4\n",
    "#          • The second a random number from 1 to 3\n",
    "#          • The third a random number from 10,000 to 30,000 \n",
    "s1 = pd.Series(np.random.randint(1, 5, size=100))  # Random numbers from 1 to 4\n",
    "s2 = pd.Series(np.random.randint(1, 4, size=100))  # Random numbers from 1 to 3\n",
    "s3 = pd.Series(np.random.randint(10000, 30001, size=100))  # Random numbers from 10,000 to 30,000"
   ]
  },
  {
   "cell_type": "code",
   "execution_count": 24,
   "metadata": {
    "collapsed": true
   },
   "outputs": [],
   "source": [
    "# Step-3 Create a DataFrame by joinning the Series by column\n",
    "dn = pd.concat([s1, s2, s3], axis=1)"
   ]
  },
  {
   "cell_type": "code",
   "execution_count": 25,
   "metadata": {
    "collapsed": true
   },
   "outputs": [],
   "source": [
    "# Step-4 Change the name of the columns to bedrs, bathrs, price_sqr_meter\n",
    "dn.columns = ['bedrs', 'bathrs', 'price_sqr_meter']"
   ]
  },
  {
   "cell_type": "code",
   "execution_count": 26,
   "metadata": {},
   "outputs": [
    {
     "name": "stdout",
     "output_type": "stream",
     "text": [
      "Index([ 0,  1,  2,  3,  4,  5,  6,  7,  8,  9,\n",
      "       ...\n",
      "       90, 91, 92, 93, 94, 95, 96, 97, 98, 99],\n",
      "      dtype='int64', length=300)\n"
     ]
    }
   ],
   "source": [
    "# Step-5 Create a one column DataFrame with the values of the 3 Series and assign it to 'bigcolumn\n",
    "bigcolumn = pd.DataFrame(pd.concat([s1, s2, s3]))\n",
    "print(bigcolumn.index)\n"
   ]
  },
  {
   "cell_type": "code",
   "execution_count": 27,
   "metadata": {
    "collapsed": true
   },
   "outputs": [],
   "source": [
    "# step-6 Ops it seems it is going only until index 99. Is it true?"
   ]
  },
  {
   "cell_type": "markdown",
   "metadata": {},
   "source": [
    "Yes, it is true."
   ]
  },
  {
   "cell_type": "code",
   "execution_count": 28,
   "metadata": {},
   "outputs": [
    {
     "name": "stdout",
     "output_type": "stream",
     "text": [
      "         0\n",
      "0        2\n",
      "1        4\n",
      "2        2\n",
      "3        2\n",
      "4        1\n",
      "..     ...\n",
      "295  20753\n",
      "296  25813\n",
      "297  17176\n",
      "298  25150\n",
      "299  18123\n",
      "\n",
      "[300 rows x 1 columns]\n"
     ]
    }
   ],
   "source": [
    "# Step-7 Reindex the DataFrame so it goes from 0 to 299\n",
    "\n",
    "bigcolumn.reset_index(drop=True, inplace=True)\n",
    "bigcolumn = bigcolumn.reindex(range(300))\n",
    "print(bigcolumn)\n"
   ]
  },
  {
   "cell_type": "markdown",
   "metadata": {},
   "source": [
    "----"
   ]
  },
  {
   "cell_type": "markdown",
   "metadata": {},
   "source": [
    "## Question-4"
   ]
  },
  {
   "cell_type": "code",
   "execution_count": 29,
   "metadata": {
    "collapsed": true
   },
   "outputs": [],
   "source": [
    "# Step 1: Import the necessary libraries\n",
    "import pandas as pd\n",
    "import numpy as np"
   ]
  },
  {
   "cell_type": "code",
   "execution_count": 30,
   "metadata": {},
   "outputs": [
    {
     "name": "stderr",
     "output_type": "stream",
     "text": [
      "C:\\Users\\ADMIN\\AppData\\Local\\Temp\\ipykernel_19228\\121372192.py:3: FutureWarning: The 'delim_whitespace' keyword in pd.read_csv is deprecated and will be removed in a future version. Use ``sep='\\s+'`` instead\n",
      "  data = pd.read_csv(file_path, delim_whitespace=True)\n"
     ]
    },
    {
     "ename": "FileNotFoundError",
     "evalue": "[Errno 2] No such file or directory: 'wind.txt'",
     "output_type": "error",
     "traceback": [
      "\u001b[1;31m---------------------------------------------------------------------------\u001b[0m",
      "\u001b[1;31mFileNotFoundError\u001b[0m                         Traceback (most recent call last)",
      "Cell \u001b[1;32mIn[30], line 3\u001b[0m\n\u001b[0;32m      1\u001b[0m \u001b[38;5;66;03m# Step 2: Import the dataset from the file\u001b[39;00m\n\u001b[0;32m      2\u001b[0m file_path \u001b[38;5;241m=\u001b[39m \u001b[38;5;124m'\u001b[39m\u001b[38;5;124mwind.txt\u001b[39m\u001b[38;5;124m'\u001b[39m  \u001b[38;5;66;03m# Adjusted to the correct file path\u001b[39;00m\n\u001b[1;32m----> 3\u001b[0m data \u001b[38;5;241m=\u001b[39m \u001b[43mpd\u001b[49m\u001b[38;5;241;43m.\u001b[39;49m\u001b[43mread_csv\u001b[49m\u001b[43m(\u001b[49m\u001b[43mfile_path\u001b[49m\u001b[43m,\u001b[49m\u001b[43m \u001b[49m\u001b[43mdelim_whitespace\u001b[49m\u001b[38;5;241;43m=\u001b[39;49m\u001b[38;5;28;43;01mTrue\u001b[39;49;00m\u001b[43m)\u001b[49m\n",
      "File \u001b[1;32mc:\\Users\\ADMIN\\AppData\\Local\\Programs\\Python\\Python313\\Lib\\site-packages\\pandas\\io\\parsers\\readers.py:1026\u001b[0m, in \u001b[0;36mread_csv\u001b[1;34m(filepath_or_buffer, sep, delimiter, header, names, index_col, usecols, dtype, engine, converters, true_values, false_values, skipinitialspace, skiprows, skipfooter, nrows, na_values, keep_default_na, na_filter, verbose, skip_blank_lines, parse_dates, infer_datetime_format, keep_date_col, date_parser, date_format, dayfirst, cache_dates, iterator, chunksize, compression, thousands, decimal, lineterminator, quotechar, quoting, doublequote, escapechar, comment, encoding, encoding_errors, dialect, on_bad_lines, delim_whitespace, low_memory, memory_map, float_precision, storage_options, dtype_backend)\u001b[0m\n\u001b[0;32m   1013\u001b[0m kwds_defaults \u001b[38;5;241m=\u001b[39m _refine_defaults_read(\n\u001b[0;32m   1014\u001b[0m     dialect,\n\u001b[0;32m   1015\u001b[0m     delimiter,\n\u001b[1;32m   (...)\u001b[0m\n\u001b[0;32m   1022\u001b[0m     dtype_backend\u001b[38;5;241m=\u001b[39mdtype_backend,\n\u001b[0;32m   1023\u001b[0m )\n\u001b[0;32m   1024\u001b[0m kwds\u001b[38;5;241m.\u001b[39mupdate(kwds_defaults)\n\u001b[1;32m-> 1026\u001b[0m \u001b[38;5;28;01mreturn\u001b[39;00m \u001b[43m_read\u001b[49m\u001b[43m(\u001b[49m\u001b[43mfilepath_or_buffer\u001b[49m\u001b[43m,\u001b[49m\u001b[43m \u001b[49m\u001b[43mkwds\u001b[49m\u001b[43m)\u001b[49m\n",
      "File \u001b[1;32mc:\\Users\\ADMIN\\AppData\\Local\\Programs\\Python\\Python313\\Lib\\site-packages\\pandas\\io\\parsers\\readers.py:620\u001b[0m, in \u001b[0;36m_read\u001b[1;34m(filepath_or_buffer, kwds)\u001b[0m\n\u001b[0;32m    617\u001b[0m _validate_names(kwds\u001b[38;5;241m.\u001b[39mget(\u001b[38;5;124m\"\u001b[39m\u001b[38;5;124mnames\u001b[39m\u001b[38;5;124m\"\u001b[39m, \u001b[38;5;28;01mNone\u001b[39;00m))\n\u001b[0;32m    619\u001b[0m \u001b[38;5;66;03m# Create the parser.\u001b[39;00m\n\u001b[1;32m--> 620\u001b[0m parser \u001b[38;5;241m=\u001b[39m \u001b[43mTextFileReader\u001b[49m\u001b[43m(\u001b[49m\u001b[43mfilepath_or_buffer\u001b[49m\u001b[43m,\u001b[49m\u001b[43m \u001b[49m\u001b[38;5;241;43m*\u001b[39;49m\u001b[38;5;241;43m*\u001b[39;49m\u001b[43mkwds\u001b[49m\u001b[43m)\u001b[49m\n\u001b[0;32m    622\u001b[0m \u001b[38;5;28;01mif\u001b[39;00m chunksize \u001b[38;5;129;01mor\u001b[39;00m iterator:\n\u001b[0;32m    623\u001b[0m     \u001b[38;5;28;01mreturn\u001b[39;00m parser\n",
      "File \u001b[1;32mc:\\Users\\ADMIN\\AppData\\Local\\Programs\\Python\\Python313\\Lib\\site-packages\\pandas\\io\\parsers\\readers.py:1620\u001b[0m, in \u001b[0;36mTextFileReader.__init__\u001b[1;34m(self, f, engine, **kwds)\u001b[0m\n\u001b[0;32m   1617\u001b[0m     \u001b[38;5;28mself\u001b[39m\u001b[38;5;241m.\u001b[39moptions[\u001b[38;5;124m\"\u001b[39m\u001b[38;5;124mhas_index_names\u001b[39m\u001b[38;5;124m\"\u001b[39m] \u001b[38;5;241m=\u001b[39m kwds[\u001b[38;5;124m\"\u001b[39m\u001b[38;5;124mhas_index_names\u001b[39m\u001b[38;5;124m\"\u001b[39m]\n\u001b[0;32m   1619\u001b[0m \u001b[38;5;28mself\u001b[39m\u001b[38;5;241m.\u001b[39mhandles: IOHandles \u001b[38;5;241m|\u001b[39m \u001b[38;5;28;01mNone\u001b[39;00m \u001b[38;5;241m=\u001b[39m \u001b[38;5;28;01mNone\u001b[39;00m\n\u001b[1;32m-> 1620\u001b[0m \u001b[38;5;28mself\u001b[39m\u001b[38;5;241m.\u001b[39m_engine \u001b[38;5;241m=\u001b[39m \u001b[38;5;28;43mself\u001b[39;49m\u001b[38;5;241;43m.\u001b[39;49m\u001b[43m_make_engine\u001b[49m\u001b[43m(\u001b[49m\u001b[43mf\u001b[49m\u001b[43m,\u001b[49m\u001b[43m \u001b[49m\u001b[38;5;28;43mself\u001b[39;49m\u001b[38;5;241;43m.\u001b[39;49m\u001b[43mengine\u001b[49m\u001b[43m)\u001b[49m\n",
      "File \u001b[1;32mc:\\Users\\ADMIN\\AppData\\Local\\Programs\\Python\\Python313\\Lib\\site-packages\\pandas\\io\\parsers\\readers.py:1880\u001b[0m, in \u001b[0;36mTextFileReader._make_engine\u001b[1;34m(self, f, engine)\u001b[0m\n\u001b[0;32m   1878\u001b[0m     \u001b[38;5;28;01mif\u001b[39;00m \u001b[38;5;124m\"\u001b[39m\u001b[38;5;124mb\u001b[39m\u001b[38;5;124m\"\u001b[39m \u001b[38;5;129;01mnot\u001b[39;00m \u001b[38;5;129;01min\u001b[39;00m mode:\n\u001b[0;32m   1879\u001b[0m         mode \u001b[38;5;241m+\u001b[39m\u001b[38;5;241m=\u001b[39m \u001b[38;5;124m\"\u001b[39m\u001b[38;5;124mb\u001b[39m\u001b[38;5;124m\"\u001b[39m\n\u001b[1;32m-> 1880\u001b[0m \u001b[38;5;28mself\u001b[39m\u001b[38;5;241m.\u001b[39mhandles \u001b[38;5;241m=\u001b[39m \u001b[43mget_handle\u001b[49m\u001b[43m(\u001b[49m\n\u001b[0;32m   1881\u001b[0m \u001b[43m    \u001b[49m\u001b[43mf\u001b[49m\u001b[43m,\u001b[49m\n\u001b[0;32m   1882\u001b[0m \u001b[43m    \u001b[49m\u001b[43mmode\u001b[49m\u001b[43m,\u001b[49m\n\u001b[0;32m   1883\u001b[0m \u001b[43m    \u001b[49m\u001b[43mencoding\u001b[49m\u001b[38;5;241;43m=\u001b[39;49m\u001b[38;5;28;43mself\u001b[39;49m\u001b[38;5;241;43m.\u001b[39;49m\u001b[43moptions\u001b[49m\u001b[38;5;241;43m.\u001b[39;49m\u001b[43mget\u001b[49m\u001b[43m(\u001b[49m\u001b[38;5;124;43m\"\u001b[39;49m\u001b[38;5;124;43mencoding\u001b[39;49m\u001b[38;5;124;43m\"\u001b[39;49m\u001b[43m,\u001b[49m\u001b[43m \u001b[49m\u001b[38;5;28;43;01mNone\u001b[39;49;00m\u001b[43m)\u001b[49m\u001b[43m,\u001b[49m\n\u001b[0;32m   1884\u001b[0m \u001b[43m    \u001b[49m\u001b[43mcompression\u001b[49m\u001b[38;5;241;43m=\u001b[39;49m\u001b[38;5;28;43mself\u001b[39;49m\u001b[38;5;241;43m.\u001b[39;49m\u001b[43moptions\u001b[49m\u001b[38;5;241;43m.\u001b[39;49m\u001b[43mget\u001b[49m\u001b[43m(\u001b[49m\u001b[38;5;124;43m\"\u001b[39;49m\u001b[38;5;124;43mcompression\u001b[39;49m\u001b[38;5;124;43m\"\u001b[39;49m\u001b[43m,\u001b[49m\u001b[43m \u001b[49m\u001b[38;5;28;43;01mNone\u001b[39;49;00m\u001b[43m)\u001b[49m\u001b[43m,\u001b[49m\n\u001b[0;32m   1885\u001b[0m \u001b[43m    \u001b[49m\u001b[43mmemory_map\u001b[49m\u001b[38;5;241;43m=\u001b[39;49m\u001b[38;5;28;43mself\u001b[39;49m\u001b[38;5;241;43m.\u001b[39;49m\u001b[43moptions\u001b[49m\u001b[38;5;241;43m.\u001b[39;49m\u001b[43mget\u001b[49m\u001b[43m(\u001b[49m\u001b[38;5;124;43m\"\u001b[39;49m\u001b[38;5;124;43mmemory_map\u001b[39;49m\u001b[38;5;124;43m\"\u001b[39;49m\u001b[43m,\u001b[49m\u001b[43m \u001b[49m\u001b[38;5;28;43;01mFalse\u001b[39;49;00m\u001b[43m)\u001b[49m\u001b[43m,\u001b[49m\n\u001b[0;32m   1886\u001b[0m \u001b[43m    \u001b[49m\u001b[43mis_text\u001b[49m\u001b[38;5;241;43m=\u001b[39;49m\u001b[43mis_text\u001b[49m\u001b[43m,\u001b[49m\n\u001b[0;32m   1887\u001b[0m \u001b[43m    \u001b[49m\u001b[43merrors\u001b[49m\u001b[38;5;241;43m=\u001b[39;49m\u001b[38;5;28;43mself\u001b[39;49m\u001b[38;5;241;43m.\u001b[39;49m\u001b[43moptions\u001b[49m\u001b[38;5;241;43m.\u001b[39;49m\u001b[43mget\u001b[49m\u001b[43m(\u001b[49m\u001b[38;5;124;43m\"\u001b[39;49m\u001b[38;5;124;43mencoding_errors\u001b[39;49m\u001b[38;5;124;43m\"\u001b[39;49m\u001b[43m,\u001b[49m\u001b[43m \u001b[49m\u001b[38;5;124;43m\"\u001b[39;49m\u001b[38;5;124;43mstrict\u001b[39;49m\u001b[38;5;124;43m\"\u001b[39;49m\u001b[43m)\u001b[49m\u001b[43m,\u001b[49m\n\u001b[0;32m   1888\u001b[0m \u001b[43m    \u001b[49m\u001b[43mstorage_options\u001b[49m\u001b[38;5;241;43m=\u001b[39;49m\u001b[38;5;28;43mself\u001b[39;49m\u001b[38;5;241;43m.\u001b[39;49m\u001b[43moptions\u001b[49m\u001b[38;5;241;43m.\u001b[39;49m\u001b[43mget\u001b[49m\u001b[43m(\u001b[49m\u001b[38;5;124;43m\"\u001b[39;49m\u001b[38;5;124;43mstorage_options\u001b[39;49m\u001b[38;5;124;43m\"\u001b[39;49m\u001b[43m,\u001b[49m\u001b[43m \u001b[49m\u001b[38;5;28;43;01mNone\u001b[39;49;00m\u001b[43m)\u001b[49m\u001b[43m,\u001b[49m\n\u001b[0;32m   1889\u001b[0m \u001b[43m\u001b[49m\u001b[43m)\u001b[49m\n\u001b[0;32m   1890\u001b[0m \u001b[38;5;28;01massert\u001b[39;00m \u001b[38;5;28mself\u001b[39m\u001b[38;5;241m.\u001b[39mhandles \u001b[38;5;129;01mis\u001b[39;00m \u001b[38;5;129;01mnot\u001b[39;00m \u001b[38;5;28;01mNone\u001b[39;00m\n\u001b[0;32m   1891\u001b[0m f \u001b[38;5;241m=\u001b[39m \u001b[38;5;28mself\u001b[39m\u001b[38;5;241m.\u001b[39mhandles\u001b[38;5;241m.\u001b[39mhandle\n",
      "File \u001b[1;32mc:\\Users\\ADMIN\\AppData\\Local\\Programs\\Python\\Python313\\Lib\\site-packages\\pandas\\io\\common.py:873\u001b[0m, in \u001b[0;36mget_handle\u001b[1;34m(path_or_buf, mode, encoding, compression, memory_map, is_text, errors, storage_options)\u001b[0m\n\u001b[0;32m    868\u001b[0m \u001b[38;5;28;01melif\u001b[39;00m \u001b[38;5;28misinstance\u001b[39m(handle, \u001b[38;5;28mstr\u001b[39m):\n\u001b[0;32m    869\u001b[0m     \u001b[38;5;66;03m# Check whether the filename is to be opened in binary mode.\u001b[39;00m\n\u001b[0;32m    870\u001b[0m     \u001b[38;5;66;03m# Binary mode does not support 'encoding' and 'newline'.\u001b[39;00m\n\u001b[0;32m    871\u001b[0m     \u001b[38;5;28;01mif\u001b[39;00m ioargs\u001b[38;5;241m.\u001b[39mencoding \u001b[38;5;129;01mand\u001b[39;00m \u001b[38;5;124m\"\u001b[39m\u001b[38;5;124mb\u001b[39m\u001b[38;5;124m\"\u001b[39m \u001b[38;5;129;01mnot\u001b[39;00m \u001b[38;5;129;01min\u001b[39;00m ioargs\u001b[38;5;241m.\u001b[39mmode:\n\u001b[0;32m    872\u001b[0m         \u001b[38;5;66;03m# Encoding\u001b[39;00m\n\u001b[1;32m--> 873\u001b[0m         handle \u001b[38;5;241m=\u001b[39m \u001b[38;5;28;43mopen\u001b[39;49m\u001b[43m(\u001b[49m\n\u001b[0;32m    874\u001b[0m \u001b[43m            \u001b[49m\u001b[43mhandle\u001b[49m\u001b[43m,\u001b[49m\n\u001b[0;32m    875\u001b[0m \u001b[43m            \u001b[49m\u001b[43mioargs\u001b[49m\u001b[38;5;241;43m.\u001b[39;49m\u001b[43mmode\u001b[49m\u001b[43m,\u001b[49m\n\u001b[0;32m    876\u001b[0m \u001b[43m            \u001b[49m\u001b[43mencoding\u001b[49m\u001b[38;5;241;43m=\u001b[39;49m\u001b[43mioargs\u001b[49m\u001b[38;5;241;43m.\u001b[39;49m\u001b[43mencoding\u001b[49m\u001b[43m,\u001b[49m\n\u001b[0;32m    877\u001b[0m \u001b[43m            \u001b[49m\u001b[43merrors\u001b[49m\u001b[38;5;241;43m=\u001b[39;49m\u001b[43merrors\u001b[49m\u001b[43m,\u001b[49m\n\u001b[0;32m    878\u001b[0m \u001b[43m            \u001b[49m\u001b[43mnewline\u001b[49m\u001b[38;5;241;43m=\u001b[39;49m\u001b[38;5;124;43m\"\u001b[39;49m\u001b[38;5;124;43m\"\u001b[39;49m\u001b[43m,\u001b[49m\n\u001b[0;32m    879\u001b[0m \u001b[43m        \u001b[49m\u001b[43m)\u001b[49m\n\u001b[0;32m    880\u001b[0m     \u001b[38;5;28;01melse\u001b[39;00m:\n\u001b[0;32m    881\u001b[0m         \u001b[38;5;66;03m# Binary mode\u001b[39;00m\n\u001b[0;32m    882\u001b[0m         handle \u001b[38;5;241m=\u001b[39m \u001b[38;5;28mopen\u001b[39m(handle, ioargs\u001b[38;5;241m.\u001b[39mmode)\n",
      "\u001b[1;31mFileNotFoundError\u001b[0m: [Errno 2] No such file or directory: 'wind.txt'"
     ]
    }
   ],
   "source": [
    "# Step 2: Import the dataset from the file\n",
    "file_path = 'wind.txt'  # Adjusted to the correct file path\n",
    "data = pd.read_csv(file_path, delim_whitespace=True)"
   ]
  },
  {
   "cell_type": "code",
   "execution_count": null,
   "metadata": {
    "collapsed": true
   },
   "outputs": [],
   "source": [
    "# Step 3: Replace the first 3 columns with a proper datetime index\n",
    "data.columns = ['Yr', 'Mo', 'Dy'] + list(data.columns[3:])\n",
    "data['Yr'] = data['Yr'].apply(lambda x: x + 1900 if x < 100 else x)  # Adjust years\n",
    "data['Date'] = pd.to_datetime(data[['Yr', 'Mo', 'Dy']].astype(str).agg('-'.join, axis=1))\n",
    "data.set_index('Date', inplace=True)\n"
   ]
  },
  {
   "cell_type": "code",
   "execution_count": null,
   "metadata": {
    "collapsed": true
   },
   "outputs": [],
   "source": [
    "# Step 4: Fix the year if it is incorrectly set to 2061\n",
    "def fix_year(year):\n",
    "    return year - 100 if year > 2023 else year\n",
    "\n",
    "data.index = data.index.map(lambda date: date.replace(year=fix_year(date.year)))"
   ]
  },
  {
   "cell_type": "code",
   "execution_count": null,
   "metadata": {
    "collapsed": true
   },
   "outputs": [],
   "source": [
    "# Step 5: Ensure the index is datetime64[ns]\n",
    "data.index = pd.to_datetime(data.index)"
   ]
  },
  {
   "cell_type": "code",
   "execution_count": null,
   "metadata": {
    "collapsed": true
   },
   "outputs": [],
   "source": [
    "# Step 6: Compute how many values are missing for each location\n",
    "missing_values = data.isna().sum()"
   ]
  },
  {
   "cell_type": "code",
   "execution_count": null,
   "metadata": {
    "collapsed": true
   },
   "outputs": [],
   "source": [
    "# Step 7: Compute the total number of non-missing values\n",
    "non_missing_values = data.notna().sum().sum()"
   ]
  },
  {
   "cell_type": "code",
   "execution_count": null,
   "metadata": {
    "collapsed": true
   },
   "outputs": [],
   "source": [
    "# Step 8: Calculate the mean windspeeds over all locations and all times\n",
    "mean_windspeed = data.mean().mean()"
   ]
  },
  {
   "cell_type": "code",
   "execution_count": null,
   "metadata": {
    "collapsed": true
   },
   "outputs": [],
   "source": [
    "# Step 9: Create `loc_stats` DataFrame for statistics by location\n",
    "loc_stats = data.describe().loc[['min', 'max', 'mean', 'std']].transpose()"
   ]
  },
  {
   "cell_type": "code",
   "execution_count": null,
   "metadata": {
    "collapsed": true
   },
   "outputs": [],
   "source": [
    "# Step 10: Create `day_stats` DataFrame for statistics by day\n",
    "day_stats = data.aggregate(['min', 'max', 'mean', 'std'], axis=1)"
   ]
  },
  {
   "cell_type": "code",
   "execution_count": null,
   "metadata": {
    "collapsed": true
   },
   "outputs": [],
   "source": [
    "# Step 11: Find the average windspeed in January for each location\n",
    "january_data = data[data.index.month == 1]\n",
    "january_avg = january_data.mean()\n"
   ]
  },
  {
   "cell_type": "code",
   "execution_count": null,
   "metadata": {
    "collapsed": true
   },
   "outputs": [],
   "source": [
    "# Step 12: Downsample the record to a yearly frequency for each location\n",
    "yearly_data = data.resample('Y').mean()\n"
   ]
  },
  {
   "cell_type": "code",
   "execution_count": null,
   "metadata": {
    "collapsed": true
   },
   "outputs": [],
   "source": [
    "# Step 13: Downsample the record to a monthly frequency for each location\n",
    "monthly_data = data.resample('M').mean()"
   ]
  },
  {
   "cell_type": "code",
   "execution_count": null,
   "metadata": {
    "collapsed": true
   },
   "outputs": [],
   "source": [
    "# Step 14: Downsample the record to a weekly frequency for each location\n",
    "weekly_data = data.resample('W').mean()"
   ]
  },
  {
   "cell_type": "code",
   "execution_count": null,
   "metadata": {},
   "outputs": [
    {
     "name": "stdout",
     "output_type": "stream",
     "text": [
      "Missing values per location:\n",
      "Yr     0\n",
      "Mo     0\n",
      "Dy     0\n",
      "RPT    6\n",
      "VAL    3\n",
      "ROS    2\n",
      "KIL    5\n",
      "SHA    2\n",
      "BIR    0\n",
      "DUB    3\n",
      "CLA    2\n",
      "MUL    3\n",
      "CLO    1\n",
      "BEL    0\n",
      "MAL    4\n",
      "dtype: int64\n",
      "\n",
      "Total number of non-missing values:\n",
      "98579\n",
      "\n",
      "Mean windspeed across all locations and times:\n",
      "140.96586626591318\n",
      "\n",
      "Statistics by location:\n",
      "         min      max         mean       std\n",
      "Yr   1961.00  1978.00  1969.500304  5.188131\n",
      "Mo      1.00    12.00     6.523274  3.448871\n",
      "Dy      1.00    31.00    15.728628  8.800335\n",
      "RPT     0.67    35.80    12.362987  5.618413\n",
      "VAL     0.21    33.37    10.644314  5.267356\n",
      "ROS     1.50    33.84    11.660526  5.008450\n",
      "KIL     0.00    28.46     6.306468  3.605811\n",
      "SHA     0.13    37.54    10.455834  4.936125\n",
      "BIR     0.00    26.16     7.092254  3.968683\n",
      "DUB     0.00    30.37     9.797343  4.977555\n",
      "CLA     0.00    31.08     8.495053  4.499449\n",
      "MUL     0.00    25.88     8.493590  4.166872\n",
      "CLO     0.04    28.21     8.707332  4.503954\n",
      "BEL     0.13    42.38    13.121007  5.835037\n",
      "MAL     0.67    42.54    15.599079  6.699794\n",
      "\n",
      "Average windspeed in January for each location:\n",
      "Yr     1969.500000\n",
      "Mo        1.000000\n",
      "Dy       16.000000\n",
      "RPT      14.847325\n",
      "VAL      12.914560\n",
      "ROS      13.299624\n",
      "KIL       7.199498\n",
      "SHA      11.667734\n",
      "BIR       8.054839\n",
      "DUB      11.819355\n",
      "CLA       9.512047\n",
      "MUL       9.543208\n",
      "CLO      10.053566\n",
      "BEL      14.550520\n",
      "MAL      18.028763\n",
      "dtype: float64\n",
      "\n",
      "Yearly downsampled data:\n",
      "                Yr        Mo         Dy        RPT        VAL        ROS  \\\n",
      "Date                                                                       \n",
      "1961-12-31  1961.0  6.526027  15.720548  12.299583  10.351796  11.362369   \n",
      "1962-12-31  1962.0  6.526027  15.720548  12.246923  10.110438  11.732712   \n",
      "1963-12-31  1963.0  6.526027  15.720548  12.813452  10.836986  12.541151   \n",
      "1964-12-31  1964.0  6.513661  15.756831  12.363661  10.920164  12.104372   \n",
      "1965-12-31  1965.0  6.526027  15.720548  12.451370  11.075534  11.848767   \n",
      "1966-12-31  1966.0  6.526027  15.720548  13.461973  11.557205  12.020630   \n",
      "1967-12-31  1967.0  6.526027  15.720548  12.737151  10.990986  11.739397   \n",
      "1968-12-31  1968.0  6.513661  15.756831  11.835628  10.468197  11.409754   \n",
      "1969-12-31  1969.0  6.526027  15.720548  11.166356   9.723699  10.902000   \n",
      "1970-12-31  1970.0  6.526027  15.720548  12.600329  10.726932  11.730247   \n",
      "1971-12-31  1971.0  6.526027  15.720548  11.273123   9.095178  11.088329   \n",
      "1972-12-31  1972.0  6.513661  15.756831  12.463962  10.561311  12.058333   \n",
      "1973-12-31  1973.0  6.526027  15.720548  11.828466  10.680493  10.680493   \n",
      "1974-12-31  1974.0  6.526027  15.720548  13.643096  11.811781  12.336356   \n",
      "1975-12-31  1975.0  6.526027  15.720548  12.008575  10.293836  11.564712   \n",
      "1976-12-31  1976.0  6.513661  15.756831  11.737842  10.203115  10.761230   \n",
      "1977-12-31  1977.0  6.526027  15.720548  13.099616  11.144493  12.627836   \n",
      "1978-12-31  1978.0  6.526027  15.720548  12.504356  11.044274  11.380000   \n",
      "\n",
      "                 KIL        SHA       BIR        DUB        CLA       MUL  \\\n",
      "Date                                                                        \n",
      "1961-12-31  6.958227  10.881763  7.729726   9.733923   8.858788  8.647652   \n",
      "1962-12-31  6.960440  10.657918  7.393068  11.020712   8.793753  8.316822   \n",
      "1963-12-31  7.330055  11.724110  8.434712  11.075699  10.336548  8.903589   \n",
      "1964-12-31  6.787787  11.454481  7.570874  10.259153   9.467350  7.789016   \n",
      "1965-12-31  6.858466  11.024795  7.478110  10.618712   8.879918  7.907425   \n",
      "1966-12-31  7.345726  11.805041  7.793671  10.579808   8.835096  8.514438   \n",
      "1967-12-31  7.143425  11.630740  7.368164  10.652027   9.325616  8.645014   \n",
      "1968-12-31  6.477678  10.760765  6.067322   8.859180   8.255519  7.224945   \n",
      "1969-12-31  5.767973   9.873918  6.189973   8.564493   7.711397  7.924521   \n",
      "1970-12-31  6.217178  10.567370  7.609452   9.609890   8.334630  9.297616   \n",
      "1971-12-31  5.241507   9.440329  6.097151   8.385890   6.757315  7.915370   \n",
      "1972-12-31  5.929699   9.430410  6.358825   9.704508   7.680792  8.357295   \n",
      "1973-12-31  5.547863   9.640877  6.548740   8.482110   7.614274  8.245534   \n",
      "1974-12-31  6.427041  11.110986  6.809781  10.084603   9.896986  9.331753   \n",
      "1975-12-31  5.269096   9.190082  5.668521   8.562603   7.843836  8.797945   \n",
      "1976-12-31  5.109426   8.846339  6.311038   9.149126   7.146202  8.883716   \n",
      "1977-12-31  6.073945  10.003836  8.586438  11.523205   8.378384  9.098192   \n",
      "1978-12-31  6.082356  10.167233  7.650658   9.489342   8.800466  9.089753   \n",
      "\n",
      "                  CLO        BEL        MAL  \n",
      "Date                                         \n",
      "1961-12-31   9.835577  13.502795  13.680773  \n",
      "1962-12-31   9.676247  12.930685  14.323956  \n",
      "1963-12-31  10.224438  13.638877  14.999014  \n",
      "1964-12-31  10.207951  13.740546  14.910301  \n",
      "1965-12-31   9.918082  12.964247  15.591644  \n",
      "1966-12-31   9.768959  14.265836  16.307260  \n",
      "1967-12-31   9.547425  14.774548  17.135945  \n",
      "1968-12-31   7.832978  12.808634  15.017486  \n",
      "1969-12-31   7.754384  12.621233  15.762904  \n",
      "1970-12-31   8.289808  13.183644  16.456027  \n",
      "1971-12-31   7.229753  12.208932  15.025233  \n",
      "1972-12-31   7.515273  12.727377  15.028716  \n",
      "1973-12-31   7.812411  12.169699  15.441096  \n",
      "1974-12-31   8.736356  13.252959  16.947671  \n",
      "1975-12-31   7.382822  12.631671  15.307863  \n",
      "1976-12-31   7.883087  12.332377  15.471448  \n",
      "1977-12-31   8.821616  13.459068  16.590849  \n",
      "1978-12-31   8.301699  12.967397  16.771370  \n",
      "\n",
      "Monthly downsampled data:\n",
      "                Yr    Mo    Dy        RPT        VAL        ROS       KIL  \\\n",
      "Date                                                                        \n",
      "1961-01-31  1961.0   1.0  16.0  14.841333  11.988333  13.431613  7.736774   \n",
      "1961-02-28  1961.0   2.0  14.5  16.269286  14.975357  14.441481  9.230741   \n",
      "1961-03-31  1961.0   3.0  16.0  10.890000  11.296452  10.752903  7.284000   \n",
      "1961-04-30  1961.0   4.0  15.5  10.722667   9.427667   9.998000  5.830667   \n",
      "1961-05-31  1961.0   5.0  16.0   9.860968   8.850000  10.818065  5.905333   \n",
      "...            ...   ...   ...        ...        ...        ...       ...   \n",
      "1978-08-31  1978.0   8.0  16.0   9.645161   8.259355   9.032258  4.502903   \n",
      "1978-09-30  1978.0   9.0  15.5  10.913667  10.895000  10.635000  5.725000   \n",
      "1978-10-31  1978.0  10.0  16.0   9.897742   8.670968   9.295806  4.721290   \n",
      "1978-11-30  1978.0  11.0  15.5  16.151667  14.802667  13.508000  7.317333   \n",
      "1978-12-31  1978.0  12.0  16.0  16.175484  13.748065  15.635161  7.094839   \n",
      "\n",
      "                  SHA        BIR        DUB        CLA        MUL        CLO  \\\n",
      "Date                                                                           \n",
      "1961-01-31  11.072759   8.588065  11.184839   9.245333   9.085806  10.107419   \n",
      "1961-02-28  13.852143  10.937500  11.890714  11.846071  11.821429  12.714286   \n",
      "1961-03-31  10.509355   8.866774   9.644194   9.829677  10.294138  11.251935   \n",
      "1961-04-30   8.435000   6.495000   6.925333   7.094667   7.342333   7.237000   \n",
      "1961-05-31   9.490323   6.574839   7.604000   8.177097   8.039355   8.499355   \n",
      "...               ...        ...        ...        ...        ...        ...   \n",
      "1978-08-31   7.368065   5.935161   5.650323   5.417742   7.241290   5.536774   \n",
      "1978-09-30  10.372000   9.278333  10.790333   9.583000  10.069333   8.939000   \n",
      "1978-10-31   8.525161   6.774194   8.115484   7.337742   8.297742   8.243871   \n",
      "1978-11-30  11.475000   8.743000  11.492333   9.657333  10.701333  10.676000   \n",
      "1978-12-31  11.398710   9.241613  12.077419  10.194839  10.616774  11.028710   \n",
      "\n",
      "                  BEL        MAL  \n",
      "Date                              \n",
      "1961-01-31  13.880968  14.703226  \n",
      "1961-02-28  18.583214  15.411786  \n",
      "1961-03-31  16.410968  15.720000  \n",
      "1961-04-30  11.147333  10.278333  \n",
      "1961-05-31  11.900323  12.011613  \n",
      "...               ...        ...  \n",
      "1978-08-31  10.466774  12.054194  \n",
      "1978-09-30  15.680333  19.391333  \n",
      "1978-10-31  13.776774  17.150000  \n",
      "1978-11-30  17.404667  20.723000  \n",
      "1978-12-31  13.859677  21.371613  \n",
      "\n",
      "[216 rows x 15 columns]\n",
      "\n",
      "Weekly downsampled data:\n",
      "                Yr         Mo         Dy        RPT        VAL        ROS  \\\n",
      "Date                                                                        \n",
      "1961-01-01  1961.0   1.000000   1.000000  15.040000  14.960000  13.170000   \n",
      "1961-01-08  1961.0   1.000000   5.000000  13.541429  11.486667  10.487143   \n",
      "1961-01-15  1961.0   1.000000  12.000000  12.468571   8.967143  11.958571   \n",
      "1961-01-22  1961.0   1.000000  19.000000  13.204286   9.862857  12.982857   \n",
      "1961-01-29  1961.0   1.000000  26.000000  19.880000  16.141429  18.225714   \n",
      "...            ...        ...        ...        ...        ...        ...   \n",
      "1978-12-03  1978.0  11.428571  17.142857  14.934286  11.232857  13.941429   \n",
      "1978-12-10  1978.0  12.000000   7.000000  20.740000  19.190000  17.034286   \n",
      "1978-12-17  1978.0  12.000000  14.000000  16.758571  14.692857  14.987143   \n",
      "1978-12-24  1978.0  12.000000  21.000000  11.155714   8.008571  13.172857   \n",
      "1978-12-31  1978.0  12.000000  28.000000  14.951429  11.801429  16.035714   \n",
      "\n",
      "                  KIL        SHA        BIR        DUB        CLA        MUL  \\\n",
      "Date                                                                           \n",
      "1961-01-01   9.290000        NaN   9.870000  13.670000  10.250000  10.830000   \n",
      "1961-01-08   6.417143   9.474286   6.435714  11.061429   6.616667   8.434286   \n",
      "1961-01-15   4.630000   7.351429   5.072857   7.535714   6.820000   5.712857   \n",
      "1961-01-22   6.328571   8.966667   7.417143   9.257143   7.875714   7.145714   \n",
      "1961-01-29  12.720000  17.432857  14.828571  15.528571  15.160000  14.480000   \n",
      "...               ...        ...        ...        ...        ...        ...   \n",
      "1978-12-03   5.565714  10.215714   8.618571   9.642857   7.685714   9.011429   \n",
      "1978-12-10   9.777143  15.287143  12.774286  14.437143  12.488571  13.870000   \n",
      "1978-12-17   6.917143  11.397143   7.272857  10.208571   7.967143   9.168571   \n",
      "1978-12-24   4.004286   7.825714   6.290000   7.798571   8.667143   7.151429   \n",
      "1978-12-31   6.507143   9.660000   8.620000  13.708571  10.477143  10.868571   \n",
      "\n",
      "                  CLO        BEL        MAL  \n",
      "Date                                         \n",
      "1961-01-01  12.580000  18.500000  15.040000  \n",
      "1961-01-08   8.497143  12.481429  13.238571  \n",
      "1961-01-15   7.571429  11.125714  11.024286  \n",
      "1961-01-22   8.124286   9.821429  11.434286  \n",
      "1961-01-29  15.640000  20.930000  22.530000  \n",
      "...               ...        ...        ...  \n",
      "1978-12-03   9.547143  11.835714  18.728571  \n",
      "1978-12-10  14.082857  18.517143  23.061429  \n",
      "1978-12-17   8.565714  11.102857  15.562857  \n",
      "1978-12-24   8.072857  11.845714  18.977143  \n",
      "1978-12-31  11.471429  12.947143  26.844286  \n",
      "\n",
      "[940 rows x 15 columns]\n",
      "\n",
      "Weekly statistics for the first 52 weeks:\n",
      "              Yr                     Mo                           Dy      ...  \\\n",
      "             min   max    mean  std min max       mean       std min max  ...   \n",
      "Date                                                                      ...   \n",
      "1961-01-01  1961  1961  1961.0  NaN   1   1   1.000000       NaN   1   1  ...   \n",
      "1961-01-08  1961  1961  1961.0  0.0   1   1   1.000000  0.000000   2   8  ...   \n",
      "1961-01-15  1961  1961  1961.0  0.0   1   1   1.000000  0.000000   9  15  ...   \n",
      "1961-01-22  1961  1961  1961.0  0.0   1   1   1.000000  0.000000  16  22  ...   \n",
      "1961-01-29  1961  1961  1961.0  0.0   1   1   1.000000  0.000000  23  29  ...   \n",
      "1961-02-05  1961  1961  1961.0  0.0   1   2   1.714286  0.487950   1  31  ...   \n",
      "1961-02-12  1961  1961  1961.0  0.0   2   2   2.000000  0.000000   6  12  ...   \n",
      "1961-02-19  1961  1961  1961.0  0.0   2   2   2.000000  0.000000  13  19  ...   \n",
      "1961-02-26  1961  1961  1961.0  0.0   2   2   2.000000  0.000000  20  26  ...   \n",
      "1961-03-05  1961  1961  1961.0  0.0   2   3   2.714286  0.487950   1  28  ...   \n",
      "1961-03-12  1961  1961  1961.0  0.0   3   3   3.000000  0.000000   6  12  ...   \n",
      "1961-03-19  1961  1961  1961.0  0.0   3   3   3.000000  0.000000  13  19  ...   \n",
      "1961-03-26  1961  1961  1961.0  0.0   3   3   3.000000  0.000000  20  26  ...   \n",
      "1961-04-02  1961  1961  1961.0  0.0   3   4   3.285714  0.487950   1  31  ...   \n",
      "1961-04-09  1961  1961  1961.0  0.0   4   4   4.000000  0.000000   3   9  ...   \n",
      "1961-04-16  1961  1961  1961.0  0.0   4   4   4.000000  0.000000  10  16  ...   \n",
      "1961-04-23  1961  1961  1961.0  0.0   4   4   4.000000  0.000000  17  23  ...   \n",
      "1961-04-30  1961  1961  1961.0  0.0   4   4   4.000000  0.000000  24  30  ...   \n",
      "1961-05-07  1961  1961  1961.0  0.0   5   5   5.000000  0.000000   1   7  ...   \n",
      "1961-05-14  1961  1961  1961.0  0.0   5   5   5.000000  0.000000   8  14  ...   \n",
      "1961-05-21  1961  1961  1961.0  0.0   5   5   5.000000  0.000000  15  21  ...   \n",
      "1961-05-28  1961  1961  1961.0  0.0   5   5   5.000000  0.000000  22  28  ...   \n",
      "1961-06-04  1961  1961  1961.0  0.0   5   6   5.571429  0.534522   1  31  ...   \n",
      "1961-06-11  1961  1961  1961.0  0.0   6   6   6.000000  0.000000   5  11  ...   \n",
      "1961-06-18  1961  1961  1961.0  0.0   6   6   6.000000  0.000000  12  18  ...   \n",
      "1961-06-25  1961  1961  1961.0  0.0   6   6   6.000000  0.000000  19  25  ...   \n",
      "1961-07-02  1961  1961  1961.0  0.0   6   7   6.285714  0.487950   1  30  ...   \n",
      "1961-07-09  1961  1961  1961.0  0.0   7   7   7.000000  0.000000   3   9  ...   \n",
      "1961-07-16  1961  1961  1961.0  0.0   7   7   7.000000  0.000000  10  16  ...   \n",
      "1961-07-23  1961  1961  1961.0  0.0   7   7   7.000000  0.000000  17  23  ...   \n",
      "1961-07-30  1961  1961  1961.0  0.0   7   7   7.000000  0.000000  24  30  ...   \n",
      "1961-08-06  1961  1961  1961.0  0.0   7   8   7.857143  0.377964   1  31  ...   \n",
      "1961-08-13  1961  1961  1961.0  0.0   8   8   8.000000  0.000000   7  13  ...   \n",
      "1961-08-20  1961  1961  1961.0  0.0   8   8   8.000000  0.000000  14  20  ...   \n",
      "1961-08-27  1961  1961  1961.0  0.0   8   8   8.000000  0.000000  21  27  ...   \n",
      "1961-09-03  1961  1961  1961.0  0.0   8   9   8.428571  0.534522   1  31  ...   \n",
      "1961-09-10  1961  1961  1961.0  0.0   9   9   9.000000  0.000000   4  10  ...   \n",
      "1961-09-17  1961  1961  1961.0  0.0   9   9   9.000000  0.000000  11  17  ...   \n",
      "1961-09-24  1961  1961  1961.0  0.0   9   9   9.000000  0.000000  18  24  ...   \n",
      "1961-10-01  1961  1961  1961.0  0.0   9  10   9.142857  0.377964   1  30  ...   \n",
      "1961-10-08  1961  1961  1961.0  0.0  10  10  10.000000  0.000000   2   8  ...   \n",
      "1961-10-15  1961  1961  1961.0  0.0  10  10  10.000000  0.000000   9  15  ...   \n",
      "1961-10-22  1961  1961  1961.0  0.0  10  10  10.000000  0.000000  16  22  ...   \n",
      "1961-10-29  1961  1961  1961.0  0.0  10  10  10.000000  0.000000  23  29  ...   \n",
      "1961-11-05  1961  1961  1961.0  0.0  10  11  10.714286  0.487950   1  31  ...   \n",
      "1961-11-12  1961  1961  1961.0  0.0  11  11  11.000000  0.000000   6  12  ...   \n",
      "1961-11-19  1961  1961  1961.0  0.0  11  11  11.000000  0.000000  13  19  ...   \n",
      "1961-11-26  1961  1961  1961.0  0.0  11  11  11.000000  0.000000  20  26  ...   \n",
      "1961-12-03  1961  1961  1961.0  0.0  11  12  11.428571  0.534522   1  30  ...   \n",
      "1961-12-10  1961  1961  1961.0  0.0  12  12  12.000000  0.000000   4  10  ...   \n",
      "1961-12-17  1961  1961  1961.0  0.0  12  12  12.000000  0.000000  11  17  ...   \n",
      "1961-12-24  1961  1961  1961.0  0.0  12  12  12.000000  0.000000  18  24  ...   \n",
      "\n",
      "                  CLO              BEL                                MAL  \\\n",
      "                 mean       std    min    max       mean       std    min   \n",
      "Date                                                                        \n",
      "1961-01-01  12.580000       NaN  18.50  18.50  18.500000       NaN  15.04   \n",
      "1961-01-08   8.497143  1.704941   5.46  17.54  12.481429  4.349139  10.88   \n",
      "1961-01-15   7.571429  4.084293   5.25  20.71  11.125714  5.552215   5.17   \n",
      "1961-01-22   8.124286  4.783952   6.50  15.92   9.821429  3.626584   6.79   \n",
      "1961-01-29  15.640000  3.713368  14.04  27.71  20.930000  5.210726  17.50   \n",
      "1961-02-05   9.460000  2.839501   9.17  19.33  14.012857  4.210858   7.17   \n",
      "1961-02-12  14.440000  1.746749  15.21  26.38  21.832857  4.063753  17.04   \n",
      "1961-02-19  13.542857  2.531361  14.09  29.63  21.167143  5.910938  10.96   \n",
      "1961-02-26  12.730000  4.920064   9.59  23.21  16.304286  5.091162   6.67   \n",
      "1961-03-05  12.370000  1.593685  11.58  23.45  17.842857  4.332331   8.83   \n",
      "1961-03-12  10.458571  3.655113  10.21  22.71  16.701429  4.358759   5.54   \n",
      "1961-03-19  11.627143  3.099472  11.29  22.79  19.350000  3.779727  11.34   \n",
      "1961-03-26  11.481429  2.538224   8.25  21.34  14.037143  4.318069  13.13   \n",
      "1961-04-02   9.631429  3.191115   7.21  18.63  13.471429  4.179854   7.17   \n",
      "1961-04-09   7.238571  2.336182   7.62  17.16  11.712857  3.147781   7.21   \n",
      "1961-04-16   6.178571  2.161137   5.75  16.17   9.482857  3.641464   5.66   \n",
      "1961-04-23   9.551429  3.347972   6.75  19.21  13.620000  4.735096   4.96   \n",
      "1961-04-30   6.124286  2.840568   5.13  13.04   9.720000  2.948237   2.67   \n",
      "1961-05-07  11.585714  3.620819   4.79  28.08  17.548571  8.003490   3.83   \n",
      "1961-05-14   7.822857  5.460237   6.54  18.66  10.421429  3.968272   3.33   \n",
      "1961-05-21   7.114286  2.216889   6.63  12.00   9.624286  1.975853   5.91   \n",
      "1961-05-28   7.535714  2.575661   6.13  14.33  10.518571  3.024524   8.00   \n",
      "1961-06-04   9.035714  2.096989   8.71  17.00  12.298571  2.611139  10.63   \n",
      "1961-06-11   8.397143  2.158323   5.37  16.17  10.148571  3.993062   5.96   \n",
      "1961-06-18   9.594286  3.792400   7.29  25.25  15.351429  6.477887   6.13   \n",
      "1961-06-25  11.257143  2.286218  11.00  19.08  14.370000  2.498386  13.75   \n",
      "1961-07-02  10.268571  1.564144   6.96  21.87  14.535714  6.303747   8.50   \n",
      "1961-07-09  10.547143  3.657179   7.08  20.41  12.220000  4.537988  12.08   \n",
      "1961-07-16  10.157143  3.271899   5.04  20.25  13.520000  4.971060   5.96   \n",
      "1961-07-23   6.041429  1.439785   4.21  10.13   7.524286  2.050218   5.41   \n",
      "1961-07-30   9.470000  4.350268   7.87  22.17  12.841429  5.580903   6.13   \n",
      "1961-08-06   8.951429  2.903018   6.17  18.54  11.595714  4.901377   9.08   \n",
      "1961-08-13   7.235000  2.073777   5.88  14.29  10.934286  2.931302   5.88   \n",
      "1961-08-20  12.244286  2.730237   9.59  21.92  14.922857  4.086725  13.04   \n",
      "1961-08-27  12.507143  3.855302   5.75  23.38  16.251429  6.711322   8.29   \n",
      "1961-09-03   8.924286  3.993736   4.79  24.71  13.664286  7.678051   5.41   \n",
      "1961-09-10   7.565714  3.649278   5.41  15.83  10.700000  4.220584   3.37   \n",
      "1961-09-17  14.268571  5.128338  13.92  23.91  19.878571  4.464252  14.67   \n",
      "1961-09-24   6.798571  2.354092   4.54  20.96  11.018571  5.235868   5.25   \n",
      "1961-10-01  11.840000  3.908397   7.79  21.37  16.208571  5.091268   4.04   \n",
      "1961-10-08   7.662857  4.296870   4.79  17.83   8.810000  4.800403   4.83   \n",
      "1961-10-15   9.494286  3.569308   8.54  20.46  14.451429  4.113200  10.75   \n",
      "1961-10-22  16.461429  5.890511  10.88  24.71  17.477143  5.645871  13.46   \n",
      "1961-10-29  12.952857  6.277629   8.50  27.29  15.592857  7.056150   9.83   \n",
      "1961-11-05  11.864286  2.784450  10.29  20.17  16.322857  4.038493  13.37   \n",
      "1961-11-12   6.415714  2.843518   6.13  12.58   9.208571  2.532196   5.71   \n",
      "1961-11-19   6.031429  4.402588   0.71   9.59   5.875714  3.643285   2.00   \n",
      "1961-11-26   9.582857  2.747452   6.50  20.46  11.772857  5.407223   4.25   \n",
      "1961-12-03   7.911429  3.680477   5.50  19.04  11.464286  5.552648   5.88   \n",
      "1961-12-10  12.022857  4.156207  10.71  21.79  15.975714  4.667933   7.58   \n",
      "1961-12-17  11.058571  4.633398   5.50  22.83  15.112857  6.531043   6.50   \n",
      "1961-12-24   7.697143  4.637096   5.29  17.67   9.958571  5.065308   2.62   \n",
      "\n",
      "                                        \n",
      "              max       mean       std  \n",
      "Date                                    \n",
      "1961-01-01  15.04  15.040000       NaN  \n",
      "1961-01-08  16.46  13.238571  1.773062  \n",
      "1961-01-15  16.92  11.024286  4.692355  \n",
      "1961-01-22  17.96  11.434286  4.237239  \n",
      "1961-01-29  27.63  22.530000  3.874721  \n",
      "1961-02-05  19.25  11.935714  4.336104  \n",
      "1961-02-12  21.84  19.155714  1.828705  \n",
      "1961-02-19  22.58  16.584286  4.685377  \n",
      "1961-02-26  23.87  14.322857  6.182283  \n",
      "1961-03-05  17.54  13.951667  3.021387  \n",
      "1961-03-12  22.54  14.420000  5.769890  \n",
      "1961-03-19  22.95  16.227143  4.331958  \n",
      "1961-03-26  22.50  18.134286  3.701846  \n",
      "1961-04-02  19.58  13.900000  3.924555  \n",
      "1961-04-09  15.34  11.371429  2.598271  \n",
      "1961-04-16  12.87   8.690000  2.747842  \n",
      "1961-04-23  20.46  12.470000  5.908542  \n",
      "1961-04-30  17.50   8.637143  5.108365  \n",
      "1961-05-07  26.58  14.571429  7.728504  \n",
      "1961-05-14  26.30  10.382857  7.858246  \n",
      "1961-05-21  14.96  10.612857  3.310819  \n",
      "1961-05-28  17.04  11.697143  3.811818  \n",
      "1961-06-04  17.96  13.597143  2.593586  \n",
      "1961-06-11  19.83  12.250000  4.925055  \n",
      "1961-06-18  24.71  15.025714  6.242673  \n",
      "1961-06-25  21.50  17.410000  3.063011  \n",
      "1961-07-02  16.79  12.133333  3.652313  \n",
      "1961-07-09  21.29  15.987143  3.665705  \n",
      "1961-07-16  21.96  12.524286  4.974273  \n",
      "1961-07-23  10.92   8.415714  2.133994  \n",
      "1961-07-30  25.37  13.761429  6.664574  \n",
      "1961-08-06  20.25  13.760000  4.448251  \n",
      "1961-08-13  15.16  10.125714  3.356585  \n",
      "1961-08-20  24.30  16.626667  3.934238  \n",
      "1961-08-27  22.29  16.485714  4.947608  \n",
      "1961-09-03  22.54  11.022857  6.308087  \n",
      "1961-09-10  20.25  11.034286  6.049619  \n",
      "1961-09-17  33.09  18.984286  6.332885  \n",
      "1961-09-24  14.62   9.814286  3.113507  \n",
      "1961-10-01  17.16  13.338571  4.696504  \n",
      "1961-10-08  19.62  11.410000  5.462002  \n",
      "1961-10-15  21.04  15.260000  4.098130  \n",
      "1961-10-22  33.45  23.641429  7.468377  \n",
      "1961-10-29  30.88  18.404286  8.340881  \n",
      "1961-11-05  23.58  19.195714  3.870800  \n",
      "1961-11-12  15.54  10.858571  3.690752  \n",
      "1961-11-19  13.25   5.737143  3.787654  \n",
      "1961-11-26  22.58  12.732857  6.475867  \n",
      "1961-12-03  21.29  14.725714  5.233192  \n",
      "1961-12-10  29.33  16.241429  7.345893  \n",
      "1961-12-17  21.12  14.644286  5.665006  \n",
      "1961-12-24  16.62   8.164286  5.048035  \n",
      "\n",
      "[52 rows x 60 columns]\n"
     ]
    }
   ],
   "source": [
    "# Step 15: Calculate weekly statistics for the first 52 weeks\n",
    "weekly_stats = data.resample('W').aggregate(['min', 'max', 'mean', 'std']).iloc[:52]\n",
    "\n",
    "# Display key results\n",
    "print(\"Missing values per location:\")\n",
    "print(missing_values)\n",
    "\n",
    "print(\"\\nTotal number of non-missing values:\")\n",
    "print(non_missing_values)\n",
    "\n",
    "print(\"\\nMean windspeed across all locations and times:\")\n",
    "print(mean_windspeed)\n",
    "\n",
    "print(\"\\nStatistics by location:\")\n",
    "print(loc_stats)\n",
    "\n",
    "print(\"\\nAverage windspeed in January for each location:\")\n",
    "print(january_avg)\n",
    "\n",
    "print(\"\\nYearly downsampled data:\")\n",
    "print(yearly_data)\n",
    "\n",
    "print(\"\\nMonthly downsampled data:\")\n",
    "print(monthly_data)\n",
    "\n",
    "print(\"\\nWeekly downsampled data:\")\n",
    "print(weekly_data)\n",
    "\n",
    "print(\"\\nWeekly statistics for the first 52 weeks:\")\n",
    "print(weekly_stats)"
   ]
  },
  {
   "cell_type": "markdown",
   "metadata": {},
   "source": [
    "---"
   ]
  },
  {
   "cell_type": "markdown",
   "metadata": {},
   "source": [
    "## Question-5"
   ]
  },
  {
   "cell_type": "code",
   "execution_count": null,
   "metadata": {
    "collapsed": true
   },
   "outputs": [],
   "source": [
    "import pandas as pd"
   ]
  },
  {
   "cell_type": "code",
   "execution_count": null,
   "metadata": {},
   "outputs": [
    {
     "name": "stdout",
     "output_type": "stream",
     "text": [
      "   order_id  quantity                              item_name  \\\n",
      "0         1         1           Chips and Fresh Tomato Salsa   \n",
      "1         1         1                                   Izze   \n",
      "2         1         1                       Nantucket Nectar   \n",
      "3         1         1  Chips and Tomatillo-Green Chili Salsa   \n",
      "4         2         2                           Chicken Bowl   \n",
      "\n",
      "                                  choice_description item_price  \n",
      "0                                                NaN     $2.39   \n",
      "1                                       [Clementine]     $3.39   \n",
      "2                                            [Apple]     $3.39   \n",
      "3                                                NaN     $2.39   \n",
      "4  [Tomatillo-Red Chili Salsa (Hot), [Black Beans...    $16.98   \n"
     ]
    }
   ],
   "source": [
    "import pandas as pd\n",
    "\n",
    "# Specify the correct path to your local TXT file\n",
    "file_path = 'C:\\\\Users\\\\tarak\\\\Downloads\\\\ps1\\\\que 5.txt'  # Windows\n",
    "# file_path = 'C:\\Users\\tarak\\Downloads\\ps1\\que 5.txt'  # Mac/Linux\n",
    "\n",
    "# Load the data from the local file (assuming tab-separated values)\n",
    "chipo = pd.read_table(file_path, delimiter='\\t')\n",
    "\n",
    "# Check the first few rows to confirm it loaded correctly\n",
    "print(chipo.head())\n"
   ]
  },
  {
   "cell_type": "code",
   "execution_count": null,
   "metadata": {},
   "outputs": [
    {
     "data": {
      "text/html": [
       "<div>\n",
       "<style scoped>\n",
       "    .dataframe tbody tr th:only-of-type {\n",
       "        vertical-align: middle;\n",
       "    }\n",
       "\n",
       "    .dataframe tbody tr th {\n",
       "        vertical-align: top;\n",
       "    }\n",
       "\n",
       "    .dataframe thead th {\n",
       "        text-align: right;\n",
       "    }\n",
       "</style>\n",
       "<table border=\"1\" class=\"dataframe\">\n",
       "  <thead>\n",
       "    <tr style=\"text-align: right;\">\n",
       "      <th></th>\n",
       "      <th>order_id</th>\n",
       "      <th>quantity</th>\n",
       "      <th>item_name</th>\n",
       "      <th>choice_description</th>\n",
       "      <th>item_price</th>\n",
       "    </tr>\n",
       "  </thead>\n",
       "  <tbody>\n",
       "    <tr>\n",
       "      <th>0</th>\n",
       "      <td>1</td>\n",
       "      <td>1</td>\n",
       "      <td>Chips and Fresh Tomato Salsa</td>\n",
       "      <td>NaN</td>\n",
       "      <td>$2.39</td>\n",
       "    </tr>\n",
       "    <tr>\n",
       "      <th>1</th>\n",
       "      <td>1</td>\n",
       "      <td>1</td>\n",
       "      <td>Izze</td>\n",
       "      <td>[Clementine]</td>\n",
       "      <td>$3.39</td>\n",
       "    </tr>\n",
       "    <tr>\n",
       "      <th>2</th>\n",
       "      <td>1</td>\n",
       "      <td>1</td>\n",
       "      <td>Nantucket Nectar</td>\n",
       "      <td>[Apple]</td>\n",
       "      <td>$3.39</td>\n",
       "    </tr>\n",
       "    <tr>\n",
       "      <th>3</th>\n",
       "      <td>1</td>\n",
       "      <td>1</td>\n",
       "      <td>Chips and Tomatillo-Green Chili Salsa</td>\n",
       "      <td>NaN</td>\n",
       "      <td>$2.39</td>\n",
       "    </tr>\n",
       "    <tr>\n",
       "      <th>4</th>\n",
       "      <td>2</td>\n",
       "      <td>2</td>\n",
       "      <td>Chicken Bowl</td>\n",
       "      <td>[Tomatillo-Red Chili Salsa (Hot), [Black Beans...</td>\n",
       "      <td>$16.98</td>\n",
       "    </tr>\n",
       "    <tr>\n",
       "      <th>5</th>\n",
       "      <td>3</td>\n",
       "      <td>1</td>\n",
       "      <td>Chicken Bowl</td>\n",
       "      <td>[Fresh Tomato Salsa (Mild), [Rice, Cheese, Sou...</td>\n",
       "      <td>$10.98</td>\n",
       "    </tr>\n",
       "    <tr>\n",
       "      <th>6</th>\n",
       "      <td>3</td>\n",
       "      <td>1</td>\n",
       "      <td>Side of Chips</td>\n",
       "      <td>NaN</td>\n",
       "      <td>$1.69</td>\n",
       "    </tr>\n",
       "    <tr>\n",
       "      <th>7</th>\n",
       "      <td>4</td>\n",
       "      <td>1</td>\n",
       "      <td>Steak Burrito</td>\n",
       "      <td>[Tomatillo Red Chili Salsa, [Fajita Vegetables...</td>\n",
       "      <td>$11.75</td>\n",
       "    </tr>\n",
       "    <tr>\n",
       "      <th>8</th>\n",
       "      <td>4</td>\n",
       "      <td>1</td>\n",
       "      <td>Steak Soft Tacos</td>\n",
       "      <td>[Tomatillo Green Chili Salsa, [Pinto Beans, Ch...</td>\n",
       "      <td>$9.25</td>\n",
       "    </tr>\n",
       "    <tr>\n",
       "      <th>9</th>\n",
       "      <td>5</td>\n",
       "      <td>1</td>\n",
       "      <td>Steak Burrito</td>\n",
       "      <td>[Fresh Tomato Salsa, [Rice, Black Beans, Pinto...</td>\n",
       "      <td>$9.25</td>\n",
       "    </tr>\n",
       "  </tbody>\n",
       "</table>\n",
       "</div>"
      ],
      "text/plain": [
       "   order_id  quantity                              item_name  \\\n",
       "0         1         1           Chips and Fresh Tomato Salsa   \n",
       "1         1         1                                   Izze   \n",
       "2         1         1                       Nantucket Nectar   \n",
       "3         1         1  Chips and Tomatillo-Green Chili Salsa   \n",
       "4         2         2                           Chicken Bowl   \n",
       "5         3         1                           Chicken Bowl   \n",
       "6         3         1                          Side of Chips   \n",
       "7         4         1                          Steak Burrito   \n",
       "8         4         1                       Steak Soft Tacos   \n",
       "9         5         1                          Steak Burrito   \n",
       "\n",
       "                                  choice_description item_price  \n",
       "0                                                NaN     $2.39   \n",
       "1                                       [Clementine]     $3.39   \n",
       "2                                            [Apple]     $3.39   \n",
       "3                                                NaN     $2.39   \n",
       "4  [Tomatillo-Red Chili Salsa (Hot), [Black Beans...    $16.98   \n",
       "5  [Fresh Tomato Salsa (Mild), [Rice, Cheese, Sou...    $10.98   \n",
       "6                                                NaN     $1.69   \n",
       "7  [Tomatillo Red Chili Salsa, [Fajita Vegetables...    $11.75   \n",
       "8  [Tomatillo Green Chili Salsa, [Pinto Beans, Ch...     $9.25   \n",
       "9  [Fresh Tomato Salsa, [Rice, Black Beans, Pinto...     $9.25   "
      ]
     },
     "execution_count": 272,
     "metadata": {},
     "output_type": "execute_result"
    }
   ],
   "source": [
    "chipo.head(10)\n"
   ]
  },
  {
   "cell_type": "markdown",
   "metadata": {},
   "source": [
    "---"
   ]
  },
  {
   "cell_type": "code",
   "execution_count": null,
   "metadata": {},
   "outputs": [
    {
     "data": {
      "text/plain": [
       "4622"
      ]
     },
     "execution_count": 273,
     "metadata": {},
     "output_type": "execute_result"
    }
   ],
   "source": [
    "len(chipo)\n"
   ]
  },
  {
   "cell_type": "code",
   "execution_count": null,
   "metadata": {},
   "outputs": [
    {
     "data": {
      "text/plain": [
       "5"
      ]
     },
     "execution_count": 275,
     "metadata": {},
     "output_type": "execute_result"
    }
   ],
   "source": [
    "chipo.shape[1]\n",
    "\n"
   ]
  },
  {
   "cell_type": "code",
   "execution_count": null,
   "metadata": {},
   "outputs": [
    {
     "data": {
      "text/plain": [
       "Index(['order_id', 'quantity', 'item_name', 'choice_description',\n",
       "       'item_price'],\n",
       "      dtype='object')"
      ]
     },
     "execution_count": 276,
     "metadata": {},
     "output_type": "execute_result"
    }
   ],
   "source": [
    "chipo.columns\n"
   ]
  },
  {
   "cell_type": "code",
   "execution_count": null,
   "metadata": {},
   "outputs": [
    {
     "data": {
      "text/plain": [
       "RangeIndex(start=0, stop=4622, step=1)"
      ]
     },
     "execution_count": 277,
     "metadata": {},
     "output_type": "execute_result"
    }
   ],
   "source": [
    "chipo.index\n"
   ]
  },
  {
   "cell_type": "code",
   "execution_count": null,
   "metadata": {},
   "outputs": [
    {
     "name": "stderr",
     "output_type": "stream",
     "text": [
      "C:\\Users\\tarak\\AppData\\Local\\Temp\\ipykernel_20672\\3365998343.py:1: FutureWarning: The default value of numeric_only in DataFrameGroupBy.sum is deprecated. In a future version, numeric_only will default to False. Either specify numeric_only or select only columns which should be valid for the function.\n",
      "  most_ordered_item = chipo.groupby('item_name').sum()['quantity'].idxmax()\n"
     ]
    },
    {
     "data": {
      "text/plain": [
       "'Chicken Bowl'"
      ]
     },
     "execution_count": 278,
     "metadata": {},
     "output_type": "execute_result"
    }
   ],
   "source": [
    "most_ordered_item = chipo.groupby('item_name').sum()['quantity'].idxmax()\n",
    "most_ordered_item\n"
   ]
  },
  {
   "cell_type": "code",
   "execution_count": null,
   "metadata": {},
   "outputs": [
    {
     "name": "stderr",
     "output_type": "stream",
     "text": [
      "C:\\Users\\tarak\\AppData\\Local\\Temp\\ipykernel_20672\\299017490.py:1: FutureWarning: The default value of numeric_only in DataFrameGroupBy.sum is deprecated. In a future version, numeric_only will default to False. Either specify numeric_only or select only columns which should be valid for the function.\n",
      "  most_ordered_item_quantity = chipo.groupby('item_name').sum()['quantity'].max()\n"
     ]
    },
    {
     "data": {
      "text/plain": [
       "761"
      ]
     },
     "execution_count": 279,
     "metadata": {},
     "output_type": "execute_result"
    }
   ],
   "source": [
    "most_ordered_item_quantity = chipo.groupby('item_name').sum()['quantity'].max()\n",
    "most_ordered_item_quantity\n"
   ]
  },
  {
   "cell_type": "code",
   "execution_count": null,
   "metadata": {},
   "outputs": [
    {
     "name": "stderr",
     "output_type": "stream",
     "text": [
      "C:\\Users\\tarak\\AppData\\Local\\Temp\\ipykernel_20672\\3616757939.py:1: FutureWarning: The default value of numeric_only in DataFrameGroupBy.sum is deprecated. In a future version, numeric_only will default to False. Either specify numeric_only or select only columns which should be valid for the function.\n",
      "  most_ordered_choice_description = chipo.groupby('choice_description').sum()['quantity'].idxmax()\n"
     ]
    },
    {
     "data": {
      "text/plain": [
       "'[Diet Coke]'"
      ]
     },
     "execution_count": 280,
     "metadata": {},
     "output_type": "execute_result"
    }
   ],
   "source": [
    "most_ordered_choice_description = chipo.groupby('choice_description').sum()['quantity'].idxmax()\n",
    "most_ordered_choice_description\n"
   ]
  },
  {
   "cell_type": "code",
   "execution_count": null,
   "metadata": {},
   "outputs": [
    {
     "data": {
      "text/plain": [
       "4972"
      ]
     },
     "execution_count": 281,
     "metadata": {},
     "output_type": "execute_result"
    }
   ],
   "source": [
    "total_items_ordered = chipo['quantity'].sum()\n",
    "total_items_ordered\n"
   ]
  },
  {
   "cell_type": "code",
   "execution_count": null,
   "metadata": {},
   "outputs": [
    {
     "data": {
      "text/plain": [
       "dtype('float64')"
      ]
     },
     "execution_count": 283,
     "metadata": {},
     "output_type": "execute_result"
    }
   ],
   "source": [
    "chipo['item_price'] = chipo['item_price'].replace({'\\$': ''}, regex=True).astype(float)\n",
    "chipo['item_price'].dtype\n",
    "chipo['item_price'] = chipo['item_price'].apply(lambda x: float(x))\n",
    "chipo['item_price'].dtype\n"
   ]
  },
  {
   "cell_type": "code",
   "execution_count": null,
   "metadata": {},
   "outputs": [
    {
     "data": {
      "text/plain": [
       "39237.02"
      ]
     },
     "execution_count": 284,
     "metadata": {},
     "output_type": "execute_result"
    }
   ],
   "source": [
    "chipo['revenue'] = chipo['item_price'] * chipo['quantity']\n",
    "total_revenue = chipo['revenue'].sum()\n",
    "total_revenue\n"
   ]
  },
  {
   "cell_type": "code",
   "execution_count": null,
   "metadata": {},
   "outputs": [
    {
     "data": {
      "text/plain": [
       "1834"
      ]
     },
     "execution_count": 285,
     "metadata": {},
     "output_type": "execute_result"
    }
   ],
   "source": [
    "num_orders = chipo['order_id'].nunique()\n",
    "num_orders\n"
   ]
  },
  {
   "cell_type": "code",
   "execution_count": null,
   "metadata": {},
   "outputs": [
    {
     "data": {
      "text/plain": [
       "21.39423118865867"
      ]
     },
     "execution_count": 286,
     "metadata": {},
     "output_type": "execute_result"
    }
   ],
   "source": [
    "avg_revenue_per_order = chipo.groupby('order_id')['revenue'].sum().mean()\n",
    "avg_revenue_per_order\n"
   ]
  },
  {
   "cell_type": "code",
   "execution_count": null,
   "metadata": {},
   "outputs": [
    {
     "data": {
      "text/plain": [
       "50"
      ]
     },
     "execution_count": 287,
     "metadata": {},
     "output_type": "execute_result"
    }
   ],
   "source": [
    "num_different_items = chipo['item_name'].nunique()\n",
    "num_different_items\n"
   ]
  },
  {
   "cell_type": "markdown",
   "metadata": {},
   "source": [
    "---"
   ]
  },
  {
   "cell_type": "markdown",
   "metadata": {},
   "source": [
    "## Question-6\n"
   ]
  },
  {
   "cell_type": "code",
   "execution_count": null,
   "metadata": {
    "collapsed": true
   },
   "outputs": [],
   "source": [
    "# Step 1: Import libraries\n",
    "import pandas as pd\n",
    "import matplotlib.pyplot as plt"
   ]
  },
  {
   "cell_type": "code",
   "execution_count": null,
   "metadata": {
    "collapsed": true
   },
   "outputs": [],
   "source": [
    "# Step 2: Load the dataset\n",
    "# Replace 'us-marriages-divorces-1867-2014' with your file containing marriage and divorce data\n",
    "file_path = 'us-marriages-divorces-1867-2014.csv'  # Adjust this path\n",
    "data = pd.read_csv(file_path)"
   ]
  },
  {
   "cell_type": "code",
   "execution_count": null,
   "metadata": {
    "collapsed": true
   },
   "outputs": [],
   "source": [
    "# Step 3: Ensure the data has necessary columns\n",
    "# Assuming the dataset has columns 'Year', 'Marriages_per_Capita', 'Divorces_per_Capita'\n",
    "# Adjust column names if necessary\n",
    "data['Year'] = pd.to_datetime(data['Year'], format='%Y')  # Ensure Year column is datetime\n"
   ]
  },
  {
   "cell_type": "code",
   "execution_count": null,
   "metadata": {},
   "outputs": [
    {
     "data": {
      "text/plain": [
       "<Figure size 1000x600 with 0 Axes>"
      ]
     },
     "execution_count": 249,
     "metadata": {},
     "output_type": "execute_result"
    },
    {
     "data": {
      "text/plain": [
       "<Figure size 1000x600 with 0 Axes>"
      ]
     },
     "metadata": {},
     "output_type": "display_data"
    }
   ],
   "source": [
    "# Step 4: Plot the data\n",
    "plt.figure(figsize=(10, 6))"
   ]
  },
  {
   "cell_type": "code",
   "execution_count": null,
   "metadata": {},
   "outputs": [
    {
     "data": {
      "text/plain": [
       "<Figure size 1000x600 with 0 Axes>"
      ]
     },
     "execution_count": 250,
     "metadata": {},
     "output_type": "execute_result"
    },
    {
     "data": {
      "text/plain": [
       "<Figure size 1000x600 with 0 Axes>"
      ]
     },
     "metadata": {},
     "output_type": "display_data"
    }
   ],
   "source": [
    "# Step 4: Plot the data\n",
    "plt.figure(figsize=(10, 6))"
   ]
  },
  {
   "cell_type": "code",
   "execution_count": null,
   "metadata": {},
   "outputs": [
    {
     "name": "stderr",
     "output_type": "stream",
     "text": [
      "No artists with labels found to put in legend.  Note that artists whose label start with an underscore are ignored when legend() is called with no argument.\n"
     ]
    },
    {
     "data": {
      "image/png": "[encoded data removed]",
      "text/plain": [
       "<Figure size 640x480 with 1 Axes>"
      ]
     },
     "metadata": {},
     "output_type": "display_data"
    }
   ],
   "source": [
    "# Step 5: Add labels, title, and legend\n",
    "plt.title('Marriages and Divorces per Capita in the U.S. (1867–2014)', fontsize=14)\n",
    "plt.xlabel('Year', fontsize=12)\n",
    "plt.ylabel('Per Capita Rate', fontsize=12)\n",
    "plt.legend(fontsize=10)\n",
    "# Step 6: Customize the plot\n",
    "plt.grid(True, linestyle='--', alpha=0.5)\n",
    "# Plot marriages per capita\n",
    "plt.plot(data['Year'], data['Marriages_per_1000'], label='Marriages per 1000', color='blue')# Plot divorces per capita\n",
    "plt.plot(data['Year'], data['Divorces_per_1000'], label='Divorces per 1000', color='red')\n",
    "# Show the plot\n",
    "plt.show()"
   ]
  },
  {
   "cell_type": "markdown",
   "metadata": {},
   "source": [
    "---\n"
   ]
  },
  {
   "cell_type": "markdown",
   "metadata": {},
   "source": [
    "## Question-7"
   ]
  },
  {
   "cell_type": "code",
   "execution_count": null,
   "metadata": {
    "collapsed": true
   },
   "outputs": [],
   "source": [
    "# Step 1: Import libraries\n",
    "import pandas as pd\n",
    "import matplotlib.pyplot as plt\n"
   ]
  },
  {
   "cell_type": "code",
   "execution_count": null,
   "metadata": {
    "collapsed": true
   },
   "outputs": [],
   "source": [
    "# Step 2: Load the dataset\n",
    "# Replace 'us-marriages-divorces-1867-2014.csv' with the actual file path\n",
    "file_path = 'us-marriages-divorces-1867-2014.csv'\n",
    "data = pd.read_csv(file_path)"
   ]
  },
  {
   "cell_type": "code",
   "execution_count": null,
   "metadata": {
    "collapsed": true
   },
   "outputs": [],
   "source": [
    "# Step 3: Check the column names and ensure consistency\n",
    "data.rename(columns={\n",
    "    'Marriages per 1000': 'Marriages_per_1000',\n",
    "    'Divorces per 1000': 'Divorces_per_1000'\n",
    "}, inplace=True)"
   ]
  },
  {
   "cell_type": "code",
   "execution_count": null,
   "metadata": {
    "collapsed": true
   },
   "outputs": [],
   "source": [
    "# Step 4: Filter the data for 1900, 1950, and 2000\n",
    "filtered_data = data[data['Year'].isin([1900, 1950, 2000])]"
   ]
  },
  {
   "cell_type": "code",
   "execution_count": null,
   "metadata": {},
   "outputs": [
    {
     "data": {
      "text/plain": [
       "<Figure size 1000x600 with 0 Axes>"
      ]
     },
     "execution_count": 256,
     "metadata": {},
     "output_type": "execute_result"
    },
    {
     "data": {
      "text/plain": [
       "<Figure size 1000x600 with 0 Axes>"
      ]
     },
     "metadata": {},
     "output_type": "display_data"
    }
   ],
   "source": [
    "# Step 5: Plot the bar chart\n",
    "plt.figure(figsize=(10, 6))\n"
   ]
  },
  {
   "cell_type": "code",
   "execution_count": null,
   "metadata": {},
   "outputs": [
    {
     "data": {
      "image/png": "[encoded data removed]",
      "text/plain": [
       "<Figure size 640x480 with 1 Axes>"
      ]
     },
     "metadata": {},
     "output_type": "display_data"
    }
   ],
   "source": [
    "# Define the positions for the bars\n",
    "x_positions = [0, 1, 2]  # Corresponding to 1900, 1950, and 2000\n",
    "bar_width = 0.4  # Width of the bars\n",
    "\n",
    "# Plot marriages per capita\n",
    "plt.bar(\n",
    "    [x - bar_width / 2 for x in x_positions], \n",
    "    filtered_data['Marriages_per_1000'], \n",
    "    width=bar_width, \n",
    "    label='Marriages per 1000', \n",
    "    color='blue'\n",
    ")\n",
    "\n",
    "# Plot divorces per capita\n",
    "plt.bar(\n",
    "    [x + bar_width / 2 for x in x_positions], \n",
    "    filtered_data['Divorces_per_1000'], \n",
    "    width=bar_width, \n",
    "    label='Divorces per 1000', \n",
    "    color='red'\n",
    ")\n",
    "\n",
    "# Step 6: Customize the chart\n",
    "plt.xticks(x_positions, ['1900', '1950', '2000'], fontsize=12)  # Set x-axis labels\n",
    "plt.xlabel('Year', fontsize=14)\n",
    "plt.ylabel('Per Capita Rate', fontsize=14)\n",
    "plt.title('Comparison of Marriages and Divorces per 1000 (1900, 1950, 2000)', fontsize=16)\n",
    "plt.legend(fontsize=12)\n",
    "plt.grid(axis='y', linestyle='--', alpha=0.6)\n",
    "\n",
    "# Step 7: Show the plot\n",
    "plt.show()"
   ]
  },
  {
   "cell_type": "markdown",
   "metadata": {},
   "source": [
    "---"
   ]
  },
  {
   "cell_type": "markdown",
   "metadata": {},
   "source": [
    "## Question-8"
   ]
  },
  {
   "cell_type": "code",
   "execution_count": null,
   "metadata": {
    "collapsed": true
   },
   "outputs": [],
   "source": [
    "# Step 1: Import libraries\n",
    "import pandas as pd\n",
    "import matplotlib.pyplot as plt"
   ]
  },
  {
   "cell_type": "code",
   "execution_count": null,
   "metadata": {
    "collapsed": true
   },
   "outputs": [],
   "source": [
    "# Step 2: Create a dataset of actors and their kill counts\n",
    "# Replace this with your actual dataset if available\n",
    "data = pd.DataFrame({\n",
    "    'Actor': ['Sylvester Stallone', 'Arnold Schwarzenegger', 'Bruce Willis', 'Keanu Reeves', 'Liam Neeson'],\n",
    "    'Count': [450, 380, 300, 270, 250]\n",
    "})"
   ]
  },
  {
   "cell_type": "code",
   "execution_count": null,
   "metadata": {
    "collapsed": true
   },
   "outputs": [],
   "source": [
    "# Step 3: Sort the data by kill count in descending order\n",
    "data = data.sort_values(by='Count', ascending=False)"
   ]
  },
  {
   "cell_type": "code",
   "execution_count": null,
   "metadata": {},
   "outputs": [
    {
     "data": {
      "image/png": "[encoded data removed]",
      "text/plain": [
       "<Figure size 800x600 with 1 Axes>"
      ]
     },
     "metadata": {},
     "output_type": "display_data"
    }
   ],
   "source": [
    "\n",
    "# Step 4: Plot the horizontal bar chart\n",
    "plt.figure(figsize=(8, 6))  # Adjusted figure size\n",
    "plt.barh(data['Actor'], data['Count'], color='darkred')\n",
    "# Step 5: Customize the chart\n",
    "plt.xlabel('Count', fontsize=14)\n",
    "plt.ylabel('Actor', fontsize=14)\n",
    "plt.title('Deadliest Actors in Hollywood', fontsize=16)\n",
    "plt.grid(axis='x', linestyle='--', alpha=0.6)\n",
    "# Annotate bars with counts\n",
    "for index, value in enumerate(data['Count']):\n",
    "    plt.text(value + 5, index, str(value), va='center', fontsize=10)\n",
    "    # Step 6: Adjust layout\n",
    "plt.tight_layout()\n",
    "# Step 7: Show the plot\n",
    "plt.show()"
   ]
  },
  {
   "cell_type": "markdown",
   "metadata": {},
   "source": [
    "---"
   ]
  },
  {
   "cell_type": "markdown",
   "metadata": {},
   "source": [
    "## Question-9"
   ]
  },
  {
   "cell_type": "code",
   "execution_count": null,
   "metadata": {
    "collapsed": true
   },
   "outputs": [],
   "source": [
    "# Step 1: Import libraries\n",
    "import pandas as pd\n",
    "import matplotlib.pyplot as plt"
   ]
  },
  {
   "cell_type": "code",
   "execution_count": null,
   "metadata": {
    "collapsed": true
   },
   "outputs": [],
   "source": [
    "# Step 2: Create a dataset of Roman Emperors\n",
    "# Replace this with your actual dataset if available\n",
    "data = pd.DataFrame({\n",
    "    'Category': ['Assassinated', 'Other Causes'],\n",
    "    'Count': [50, 100]  # Replace with the actual counts\n",
    "})"
   ]
  },
  {
   "cell_type": "code",
   "execution_count": null,
   "metadata": {},
   "outputs": [
    {
     "data": {
      "image/png": "[encoded data removed]",
      "text/plain": [
       "<Figure size 600x600 with 1 Axes>"
      ]
     },
     "metadata": {},
     "output_type": "display_data"
    }
   ],
   "source": [
    "# Step 3: Plot the pie chart\n",
    "plt.figure(figsize=(6, 6))  # Ensure the pie chart is a circle\n",
    "plt.pie(\n",
    "    data['Count'], \n",
    "    labels=data['Category'], \n",
    "    autopct='%1.1f%%',  # Display percentages\n",
    "    startangle=90,  # Rotate the chart for better readability\n",
    "    colors=['red', 'gray'],  # Optional: Assign colors to categories\n",
    "    explode=(0.1, 0)  # Optional: Offset the \"Assassinated\" slice\n",
    ")\n",
    "# Step 4: Add a title\n",
    "plt.title('Fraction of Roman Emperors Assassinated', fontsize=14)\n",
    "\n",
    "# Step 5: Show the chart\n",
    "plt.show()"
   ]
  },
  {
   "cell_type": "markdown",
   "metadata": {},
   "source": [
    "---"
   ]
  },
  {
   "cell_type": "markdown",
   "metadata": {},
   "source": [
    "## Question-10"
   ]
  },
  {
   "cell_type": "code",
   "execution_count": null,
   "metadata": {
    "collapsed": true
   },
   "outputs": [],
   "source": [
    "# Step 1: Import libraries\n",
    "import pandas as pd\n",
    "import matplotlib.pyplot as plt"
   ]
  },
  {
   "cell_type": "code",
   "execution_count": null,
   "metadata": {
    "collapsed": true
   },
   "outputs": [],
   "source": [
    "# Step 2: Create a dataset\n",
    "# Replace this with your actual dataset\n",
    "data = pd.DataFrame({\n",
    "    'Year': [2000, 2001, 2002, 2003, 2004, 2005, 2006, 2007, 2008, 2009],\n",
    "    'Arcade_Revenue': [1.8, 1.9, 2.0, 2.1, 2.2, 2.3, 2.4, 2.5, 2.6, 2.7],  # Revenue in billions\n",
    "    'CS_PhDs': [800, 850, 870, 890, 910, 950, 980, 1000, 1050, 1100]  # Number of CS PhDs\n",
    "})\n"
   ]
  },
  {
   "cell_type": "code",
   "execution_count": null,
   "metadata": {},
   "outputs": [
    {
     "data": {
      "image/png": "[encoded data removed]",
      "text/plain": [
       "<Figure size 1000x600 with 2 Axes>"
      ]
     },
     "metadata": {},
     "output_type": "display_data"
    }
   ],
   "source": [
    "# Step 3: Plot the scatter plot\n",
    "plt.figure(figsize=(10, 6))\n",
    "\n",
    "scatter = plt.scatter(\n",
    "    data['Arcade_Revenue'], \n",
    "    data['CS_PhDs'], \n",
    "    c=data['Year'],  # Use year for color\n",
    "    cmap='viridis',  # Color map for years\n",
    "    edgecolor='k',  # Black edge for better visibility\n",
    "    s=100  # Size of the dots\n",
    ")\n",
    "# Step 4: Add labels and title\n",
    "plt.title('Relationship Between Arcade Revenue and CS PhDs (2000-2009)', fontsize=16)\n",
    "plt.xlabel('Arcade Revenue (in billions)', fontsize=14)\n",
    "plt.ylabel('CS PhDs Awarded', fontsize=14)\n",
    "\n",
    "# Add color bar for the year\n",
    "cbar = plt.colorbar(scatter)\n",
    "cbar.set_label('Year', fontsize=12)\n",
    "\n",
    "# Step 5: Show the plot\n",
    "plt.grid(alpha=0.3)\n",
    "plt.show()"
   ]
  }
 ],
 "metadata": {
  "kernelspec": {
   "display_name": "Python 3",
   "language": "python",
   "name": "python3"
  },
  "language_info": {
   "codemirror_mode": {
    "name": "ipython",
    "version": 3
   },
   "file_extension": ".py",
   "mimetype": "text/x-python",
   "name": "python",
   "nbconvert_exporter": "python",
   "pygments_lexer": "ipython3",
   "version": "3.6.3"
  }
 },
 "nbformat": 4,
 "nbformat_minor": 2
}
